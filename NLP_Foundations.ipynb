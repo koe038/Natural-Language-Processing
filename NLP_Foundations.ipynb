{
  "nbformat": 4,
  "nbformat_minor": 0,
  "metadata": {
    "colab": {
      "provenance": []
    },
    "kernelspec": {
      "name": "python3",
      "display_name": "Python 3"
    },
    "language_info": {
      "name": "python"
    }
  },
  "cells": [
    {
      "cell_type": "code",
      "source": [
        "# Display setting for wrapping text in notebook\n",
        "from IPython.display import HTML, display\n",
        "\n",
        "def set_css():\n",
        "  display(HTML('''\n",
        "  <style>\n",
        "    pre {\n",
        "        white-space: pre-wrap;\n",
        "    }\n",
        "  </style>\n",
        "  '''))\n",
        "get_ipython().events.register('pre_run_cell', set_css)"
      ],
      "metadata": {
        "id": "gOCO0Q23S-GR"
      },
      "execution_count": null,
      "outputs": []
    },
    {
      "cell_type": "markdown",
      "source": [
        "# Natural Language Processing (NLP) Tutorial and Excercies - TensorFlow\n",
        "\n",
        "NLP is a field at the intersection of AI, Linguistics and CS, which enables machines to understand, interpret and generate human languages. It has a wide range of applications from machine translation, sentiment analysis, speech recognition etc. An overview of some essential techniques involved in NLP consist of approaches from hand-crafted linguistic rules to ML and DL models involving Naive Bayes, SVMs, RNNs, Transformers, LSTMs and so on."
      ],
      "metadata": {
        "id": "Yt5_6P66BZan"
      }
    },
    {
      "cell_type": "markdown",
      "source": [
        "## 1. Text Preprocessing\n",
        "\n",
        "Text preprocessing prepares raw text data for classification by standardizing and cleaning it. This step enhances the quality of features, reduces noise, and improves model performance.\n",
        "\n",
        "The most common text preprocessing techniques are as the follows:\n",
        "\n",
        "\n",
        "*   Tokenization (splitting text into individual words or tokens)\n",
        "*   Lowercasing\n",
        "*   Removing Stopwords (filtering out common words that don't add significant meaning)\n",
        "*   PoS Tagging\n",
        "*   Removing Punctuation and Special Characters\n",
        "*   Stemming and Lemmatization (reducing words to root form for ease of generalization, eg: running -> run)\n",
        "\n",
        "\n",
        "For instance, in stock and options analysis, this often involves cleaning and structuring text data from financial news, analyst opinions, or social media mentions to extract sentiment, trends, or key events."
      ],
      "metadata": {
        "id": "oWLYH7wNBiPa"
      }
    },
    {
      "cell_type": "markdown",
      "source": [
        "####**1.1 Tokenization**\n",
        "Tokenization is foundational in NLP because it:\n",
        "\n",
        "* Breaks down complex text data into manageable pieces for analysis\n",
        "* Provides meaningful chunks of information, like words or sentences, for various NLP tasks (e.g., classification, sentiment analysis)\n",
        "* Helps convert unstructured text into structured data by separating sentences or words"
      ],
      "metadata": {
        "id": "R4CYKVEDB31L"
      }
    },
    {
      "cell_type": "code",
      "source": [
        "!pip install tensorflow\n"
      ],
      "metadata": {
        "colab": {
          "base_uri": "https://localhost:8080/",
          "height": 746
        },
        "id": "eOr0xfvKRUdT",
        "outputId": "f9cc261b-06ef-45a1-f63a-25ae2d04e78c"
      },
      "execution_count": null,
      "outputs": [
        {
          "output_type": "display_data",
          "data": {
            "text/plain": [
              "<IPython.core.display.HTML object>"
            ],
            "text/html": [
              "\n",
              "  <style>\n",
              "    pre {\n",
              "        white-space: pre-wrap;\n",
              "    }\n",
              "  </style>\n",
              "  "
            ]
          },
          "metadata": {}
        },
        {
          "output_type": "stream",
          "name": "stdout",
          "text": [
            "Requirement already satisfied: tensorflow in /usr/local/lib/python3.10/dist-packages (2.17.0)\n",
            "Requirement already satisfied: absl-py>=1.0.0 in /usr/local/lib/python3.10/dist-packages (from tensorflow) (1.4.0)\n",
            "Requirement already satisfied: astunparse>=1.6.0 in /usr/local/lib/python3.10/dist-packages (from tensorflow) (1.6.3)\n",
            "Requirement already satisfied: flatbuffers>=24.3.25 in /usr/local/lib/python3.10/dist-packages (from tensorflow) (24.3.25)\n",
            "Requirement already satisfied: gast!=0.5.0,!=0.5.1,!=0.5.2,>=0.2.1 in /usr/local/lib/python3.10/dist-packages (from tensorflow) (0.6.0)\n",
            "Requirement already satisfied: google-pasta>=0.1.1 in /usr/local/lib/python3.10/dist-packages (from tensorflow) (0.2.0)\n",
            "Requirement already satisfied: h5py>=3.10.0 in /usr/local/lib/python3.10/dist-packages (from tensorflow) (3.11.0)\n",
            "Requirement already satisfied: libclang>=13.0.0 in /usr/local/lib/python3.10/dist-packages (from tensorflow) (18.1.1)\n",
            "Requirement already satisfied: ml-dtypes<0.5.0,>=0.3.1 in /usr/local/lib/python3.10/dist-packages (from tensorflow) (0.4.1)\n",
            "Requirement already satisfied: opt-einsum>=2.3.2 in /usr/local/lib/python3.10/dist-packages (from tensorflow) (3.4.0)\n",
            "Requirement already satisfied: packaging in /usr/local/lib/python3.10/dist-packages (from tensorflow) (24.1)\n",
            "Requirement already satisfied: protobuf!=4.21.0,!=4.21.1,!=4.21.2,!=4.21.3,!=4.21.4,!=4.21.5,<5.0.0dev,>=3.20.3 in /usr/local/lib/python3.10/dist-packages (from tensorflow) (3.20.3)\n",
            "Requirement already satisfied: requests<3,>=2.21.0 in /usr/local/lib/python3.10/dist-packages (from tensorflow) (2.32.3)\n",
            "Requirement already satisfied: setuptools in /usr/local/lib/python3.10/dist-packages (from tensorflow) (75.1.0)\n",
            "Requirement already satisfied: six>=1.12.0 in /usr/local/lib/python3.10/dist-packages (from tensorflow) (1.16.0)\n",
            "Requirement already satisfied: termcolor>=1.1.0 in /usr/local/lib/python3.10/dist-packages (from tensorflow) (2.5.0)\n",
            "Requirement already satisfied: typing-extensions>=3.6.6 in /usr/local/lib/python3.10/dist-packages (from tensorflow) (4.12.2)\n",
            "Requirement already satisfied: wrapt>=1.11.0 in /usr/local/lib/python3.10/dist-packages (from tensorflow) (1.16.0)\n",
            "Requirement already satisfied: grpcio<2.0,>=1.24.3 in /usr/local/lib/python3.10/dist-packages (from tensorflow) (1.64.1)\n",
            "Requirement already satisfied: tensorboard<2.18,>=2.17 in /usr/local/lib/python3.10/dist-packages (from tensorflow) (2.17.0)\n",
            "Requirement already satisfied: keras>=3.2.0 in /usr/local/lib/python3.10/dist-packages (from tensorflow) (3.4.1)\n",
            "Requirement already satisfied: tensorflow-io-gcs-filesystem>=0.23.1 in /usr/local/lib/python3.10/dist-packages (from tensorflow) (0.37.1)\n",
            "Requirement already satisfied: numpy<2.0.0,>=1.23.5 in /usr/local/lib/python3.10/dist-packages (from tensorflow) (1.26.4)\n",
            "Requirement already satisfied: wheel<1.0,>=0.23.0 in /usr/local/lib/python3.10/dist-packages (from astunparse>=1.6.0->tensorflow) (0.44.0)\n",
            "Requirement already satisfied: rich in /usr/local/lib/python3.10/dist-packages (from keras>=3.2.0->tensorflow) (13.9.3)\n",
            "Requirement already satisfied: namex in /usr/local/lib/python3.10/dist-packages (from keras>=3.2.0->tensorflow) (0.0.8)\n",
            "Requirement already satisfied: optree in /usr/local/lib/python3.10/dist-packages (from keras>=3.2.0->tensorflow) (0.13.0)\n",
            "Requirement already satisfied: charset-normalizer<4,>=2 in /usr/local/lib/python3.10/dist-packages (from requests<3,>=2.21.0->tensorflow) (3.4.0)\n",
            "Requirement already satisfied: idna<4,>=2.5 in /usr/local/lib/python3.10/dist-packages (from requests<3,>=2.21.0->tensorflow) (3.10)\n",
            "Requirement already satisfied: urllib3<3,>=1.21.1 in /usr/local/lib/python3.10/dist-packages (from requests<3,>=2.21.0->tensorflow) (2.2.3)\n",
            "Requirement already satisfied: certifi>=2017.4.17 in /usr/local/lib/python3.10/dist-packages (from requests<3,>=2.21.0->tensorflow) (2024.8.30)\n",
            "Requirement already satisfied: markdown>=2.6.8 in /usr/local/lib/python3.10/dist-packages (from tensorboard<2.18,>=2.17->tensorflow) (3.7)\n",
            "Requirement already satisfied: tensorboard-data-server<0.8.0,>=0.7.0 in /usr/local/lib/python3.10/dist-packages (from tensorboard<2.18,>=2.17->tensorflow) (0.7.2)\n",
            "Requirement already satisfied: werkzeug>=1.0.1 in /usr/local/lib/python3.10/dist-packages (from tensorboard<2.18,>=2.17->tensorflow) (3.0.6)\n",
            "Requirement already satisfied: MarkupSafe>=2.1.1 in /usr/local/lib/python3.10/dist-packages (from werkzeug>=1.0.1->tensorboard<2.18,>=2.17->tensorflow) (3.0.2)\n",
            "Requirement already satisfied: markdown-it-py>=2.2.0 in /usr/local/lib/python3.10/dist-packages (from rich->keras>=3.2.0->tensorflow) (3.0.0)\n",
            "Requirement already satisfied: pygments<3.0.0,>=2.13.0 in /usr/local/lib/python3.10/dist-packages (from rich->keras>=3.2.0->tensorflow) (2.18.0)\n",
            "Requirement already satisfied: mdurl~=0.1 in /usr/local/lib/python3.10/dist-packages (from markdown-it-py>=2.2.0->rich->keras>=3.2.0->tensorflow) (0.1.2)\n"
          ]
        }
      ]
    },
    {
      "cell_type": "code",
      "source": [
        "import tensorflow as tf\n",
        "from tensorflow import keras\n",
        "from tensorflow.keras.preprocessing.text import Tokenizer\n",
        "from tensorflow.keras.preprocessing.sequence import pad_sequences"
      ],
      "metadata": {
        "colab": {
          "base_uri": "https://localhost:8080/",
          "height": 17
        },
        "id": "UOgOTa4lSoqj",
        "outputId": "391d051d-77b3-4ca2-b62c-e11cb5b6d52f"
      },
      "execution_count": null,
      "outputs": [
        {
          "output_type": "display_data",
          "data": {
            "text/plain": [
              "<IPython.core.display.HTML object>"
            ],
            "text/html": [
              "\n",
              "  <style>\n",
              "    pre {\n",
              "        white-space: pre-wrap;\n",
              "    }\n",
              "  </style>\n",
              "  "
            ]
          },
          "metadata": {}
        }
      ]
    },
    {
      "cell_type": "code",
      "execution_count": null,
      "metadata": {
        "colab": {
          "base_uri": "https://localhost:8080/",
          "height": 86
        },
        "id": "TxZidRiXBYJK",
        "outputId": "90362da3-6193-4342-d792-a86ff2b93ddc"
      },
      "outputs": [
        {
          "output_type": "display_data",
          "data": {
            "text/plain": [
              "<IPython.core.display.HTML object>"
            ],
            "text/html": [
              "\n",
              "  <style>\n",
              "    pre {\n",
              "        white-space: pre-wrap;\n",
              "    }\n",
              "  </style>\n",
              "  "
            ]
          },
          "metadata": {}
        },
        {
          "output_type": "stream",
          "name": "stdout",
          "text": [
            "Word Index: {'<OOV>': 1, 'in': 2, 'and': 3, 'increase': 4, 'price': 5, 'open': 6, 'interest': 7, 'can': 8, 'be': 9, 'interpreted': 10, 'as': 11, 'decrease': 12, 'of': 13, 'positions': 14, 'further': 15, 'short': 16, 'indication': 17, 'new': 18, 'money': 19, 'coming': 20, 'indicates': 21, 'continuance': 22, 'uptrend': 23, 'covering': 24, 'newly': 25, 'build': 26, 'weakness': 27, 'is': 28, 'predicted': 29, 'traders': 30, 'unwinding': 31, 'their': 32, 'long': 33, 'by': 34, 'selling': 35, 'existing': 36, 'contracts': 37}\n"
          ]
        }
      ],
      "source": [
        "# Financial/Market Analysis\n",
        "sentences = [\n",
        "    'Increase in Price and Increase in Open Interest can be interpreted as indication of new money coming and indicates further continuance of uptrend',\n",
        "    'Increase in Price and Decrease in Open Interest can be interpreted as short covering of positions',\n",
        "    'Decrease in Price and Increase in Open Interest can be interpreted as newly build short positions and further weakness is predicted',\n",
        "    'Decrease in Price and Decrease in Open Interest can be interpreted as traders unwinding their long positions by selling existing contracts'\n",
        "]\n",
        "\n",
        "# Initializing tokenizer\n",
        "tokenizer = Tokenizer(num_words=150, oov_token = \"<OOV>\")\n",
        "tokenizer.fit_on_texts(sentences)  # Fitting tokenizer on the sentences\n",
        "\n",
        "# Extracting and displaying word index\n",
        "word_index = tokenizer.word_index\n",
        "print(\"Word Index:\", word_index)\n"
      ]
    },
    {
      "cell_type": "markdown",
      "source": [
        "Thus as we can see, **tokenizing** the sentences converts each one into a list of integers, making the data machine-readable. Meanwhile, **padding** sequences ensures that each list has a uniform length, necessary for feeding data into a model."
      ],
      "metadata": {
        "id": "W0fvwpl25g82"
      }
    },
    {
      "cell_type": "code",
      "source": [
        "sequences = tokenizer.texts_to_sequences(sentences)\n",
        "padded = pad_sequences(sequences)\n",
        "\n",
        "# or one can do:\n",
        "# padded = pad_sequences(sequences, padding = 'post', truncating = 'post', maxlen = 5)\n",
        "# this ensures the 0's are added in the end and set desired length by defining the maxlen parameter\n",
        "# the truncating parameter as set above truncates the tokens in the sequences post the maximum length set\n",
        "\n",
        "print(sequences)\n",
        "print(padded)\n"
      ],
      "metadata": {
        "colab": {
          "base_uri": "https://localhost:8080/",
          "height": 121
        },
        "id": "IZCmaj5QTEXa",
        "outputId": "2e63c9e3-9c6b-405a-d7e3-0d6c2f651e20"
      },
      "execution_count": null,
      "outputs": [
        {
          "output_type": "display_data",
          "data": {
            "text/plain": [
              "<IPython.core.display.HTML object>"
            ],
            "text/html": [
              "\n",
              "  <style>\n",
              "    pre {\n",
              "        white-space: pre-wrap;\n",
              "    }\n",
              "  </style>\n",
              "  "
            ]
          },
          "metadata": {}
        },
        {
          "output_type": "stream",
          "name": "stdout",
          "text": [
            "[[4, 2, 5, 3, 4, 2, 6, 7, 8, 9, 10, 11, 17, 13, 18, 19, 20, 3, 21, 15, 22, 13, 23], [4, 2, 5, 3, 12, 2, 6, 7, 8, 9, 10, 11, 16, 24, 13, 14], [12, 2, 5, 3, 4, 2, 6, 7, 8, 9, 10, 11, 25, 26, 16, 14, 3, 15, 27, 28, 29], [12, 2, 5, 3, 12, 2, 6, 7, 8, 9, 10, 11, 30, 31, 32, 33, 14, 34, 35, 36, 37]]\n",
            "[[ 4  2  5  3  4  2  6  7  8  9 10 11 17 13 18 19 20  3 21 15 22 13 23]\n",
            " [ 0  0  0  0  0  0  0  4  2  5  3 12  2  6  7  8  9 10 11 16 24 13 14]\n",
            " [ 0  0 12  2  5  3  4  2  6  7  8  9 10 11 25 26 16 14  3 15 27 28 29]\n",
            " [ 0  0 12  2  5  3 12  2  6  7  8  9 10 11 30 31 32 33 14 34 35 36 37]]\n"
          ]
        }
      ]
    },
    {
      "cell_type": "markdown",
      "source": [
        "Testing with new data to see model's response to previously unseen phrases"
      ],
      "metadata": {
        "id": "oMZRNcyk5J1Z"
      }
    },
    {
      "cell_type": "code",
      "source": [
        "test_data = [\n",
        "    'Open Interest analysis can provide very useful insights pertaining market trend and support / resistance.',\n",
        "    'It is very important for option traders to understand the relation between open interest and market direction.'\n",
        "]\n",
        "\n",
        "test_seq = tokenizer.texts_to_sequences(test_data)\n",
        "\n",
        "print(test_seq)"
      ],
      "metadata": {
        "colab": {
          "base_uri": "https://localhost:8080/",
          "height": 34
        },
        "id": "f86PgoEJTc71",
        "outputId": "4ab868cd-2d19-4d8b-8fd4-263e53b9549f"
      },
      "execution_count": null,
      "outputs": [
        {
          "output_type": "display_data",
          "data": {
            "text/plain": [
              "<IPython.core.display.HTML object>"
            ],
            "text/html": [
              "\n",
              "  <style>\n",
              "    pre {\n",
              "        white-space: pre-wrap;\n",
              "    }\n",
              "  </style>\n",
              "  "
            ]
          },
          "metadata": {}
        },
        {
          "output_type": "stream",
          "name": "stdout",
          "text": [
            "[[6, 7, 1, 8, 1, 1, 1, 1, 1, 1, 1, 3, 1, 1], [1, 28, 1, 1, 1, 1, 30, 1, 1, 1, 1, 1, 6, 7, 3, 1, 1]]\n"
          ]
        }
      ]
    },
    {
      "cell_type": "markdown",
      "source": [
        "####**1.2 Lowercasing**\n",
        "Converts all text to lowercase to ensure uniformity and prevent duplicate tokens due to casing differences (e.g., “Stock” and “stock” becoming separate tokens)."
      ],
      "metadata": {
        "id": "o6mUvMYO9tE2"
      }
    },
    {
      "cell_type": "code",
      "source": [
        "lowercased_sentences = [sentence.lower() for sentence in sentences]\n",
        "print(\"Lowercased sentences: \", lowercased_sentences)"
      ],
      "metadata": {
        "colab": {
          "base_uri": "https://localhost:8080/",
          "height": 86
        },
        "id": "NitSWU2w-IVY",
        "outputId": "41919280-bde1-4da9-f815-db3b57e4cd5c"
      },
      "execution_count": null,
      "outputs": [
        {
          "output_type": "display_data",
          "data": {
            "text/plain": [
              "<IPython.core.display.HTML object>"
            ],
            "text/html": [
              "\n",
              "  <style>\n",
              "    pre {\n",
              "        white-space: pre-wrap;\n",
              "    }\n",
              "  </style>\n",
              "  "
            ]
          },
          "metadata": {}
        },
        {
          "output_type": "stream",
          "name": "stdout",
          "text": [
            "Lowercased sentences:  ['increase in price and increase in open interest can be interpreted as indication of new money coming and indicates further continuance of uptrend', 'increase in price and decrease in open interest can be interpreted as short covering of positions', 'decrease in price and increase in open interest can be interpreted as newly build short positions and further weakness is predicted', 'decrease in price and decrease in open interest can be interpreted as traders unwinding their long positions by selling existing contracts']\n"
          ]
        }
      ]
    },
    {
      "cell_type": "markdown",
      "source": [
        "####**1.3 Removing Stopwords**\n",
        "Filtering stopwords helps:\n",
        "*   Reduce Noise: Eliminates common words that don't add significant meaning to the text\n",
        "*   Focus on Meaningful Words: Retains words with higher informational value, which helps the model identify patterns better\n",
        "*   Reduce Dimensionality: By eliminating frequent, uninformative words, the dataset size decreases, improving efficiency\n",
        "\n",
        "Removes common words that may not carry much meaning in financial contexts. Here, we'll use NLTK’s stopwords list and customize it by preserving financial terms like “market” or “interest.”"
      ],
      "metadata": {
        "id": "tHCB6uGZ-djB"
      }
    },
    {
      "cell_type": "code",
      "source": [
        "import nltk\n",
        "nltk.download('stopwords')\n",
        "from nltk.corpus import stopwords"
      ],
      "metadata": {
        "colab": {
          "base_uri": "https://localhost:8080/",
          "height": 52
        },
        "id": "pSxQLhnZ-zOz",
        "outputId": "b5f790cc-25ff-4b1c-a890-76cbd0bf4df0"
      },
      "execution_count": null,
      "outputs": [
        {
          "output_type": "display_data",
          "data": {
            "text/plain": [
              "<IPython.core.display.HTML object>"
            ],
            "text/html": [
              "\n",
              "  <style>\n",
              "    pre {\n",
              "        white-space: pre-wrap;\n",
              "    }\n",
              "  </style>\n",
              "  "
            ]
          },
          "metadata": {}
        },
        {
          "output_type": "stream",
          "name": "stderr",
          "text": [
            "[nltk_data] Downloading package stopwords to /root/nltk_data...\n",
            "[nltk_data]   Package stopwords is already up-to-date!\n"
          ]
        }
      ]
    },
    {
      "cell_type": "code",
      "source": [
        "# Customizing stopword list for financial context\n",
        "stop_words = set(stopwords.words('english')) - {'price', 'interest'}\n",
        "\n",
        "# Removing stopwords from tokenized sentences\n",
        "filtered_sentences = []\n",
        "for sentence in lowercased_sentences:\n",
        "    filtered_sentence = \" \".join([word for word in sentence.split() if word not in stop_words])\n",
        "    filtered_sentences.append(filtered_sentence)\n",
        "print(\"Filtered sentences without stop-words: \", filtered_sentences)"
      ],
      "metadata": {
        "colab": {
          "base_uri": "https://localhost:8080/",
          "height": 69
        },
        "id": "NS-U_kf-_AOG",
        "outputId": "251e21ae-037d-47fa-8657-bc0be2836aa2"
      },
      "execution_count": null,
      "outputs": [
        {
          "output_type": "display_data",
          "data": {
            "text/plain": [
              "<IPython.core.display.HTML object>"
            ],
            "text/html": [
              "\n",
              "  <style>\n",
              "    pre {\n",
              "        white-space: pre-wrap;\n",
              "    }\n",
              "  </style>\n",
              "  "
            ]
          },
          "metadata": {}
        },
        {
          "output_type": "stream",
          "name": "stdout",
          "text": [
            "Filtered sentences without stop-words:  ['increase price increase open interest interpreted indication new money coming indicates continuance uptrend', 'increase price decrease open interest interpreted short covering positions', 'decrease price increase open interest interpreted newly build short positions weakness predicted', 'decrease price decrease open interest interpreted traders unwinding long positions selling existing contracts']\n"
          ]
        }
      ]
    },
    {
      "cell_type": "markdown",
      "source": [
        "####**1.4 Removing Punctuation and Special Characters**\n",
        "Cleans up punctuation and special characters, ensuring only relevant text data remains.\n",
        "\n"
      ],
      "metadata": {
        "id": "9RQvg0IC_zq0"
      }
    },
    {
      "cell_type": "code",
      "source": [
        "import re\n",
        "\n",
        "# Removing punctuation and special characters\n",
        "cleaned_sentences = [re.sub(r'[^a-zA-Z0-9\\s]', '', sentence) for sentence in filtered_sentences]\n",
        "print(\"Cleaned Sentences:\", cleaned_sentences)\n"
      ],
      "metadata": {
        "colab": {
          "base_uri": "https://localhost:8080/",
          "height": 69
        },
        "id": "C9g3Ed0CAPbm",
        "outputId": "f7145232-96b1-4038-ec36-34d23030b843"
      },
      "execution_count": null,
      "outputs": [
        {
          "output_type": "display_data",
          "data": {
            "text/plain": [
              "<IPython.core.display.HTML object>"
            ],
            "text/html": [
              "\n",
              "  <style>\n",
              "    pre {\n",
              "        white-space: pre-wrap;\n",
              "    }\n",
              "  </style>\n",
              "  "
            ]
          },
          "metadata": {}
        },
        {
          "output_type": "stream",
          "name": "stdout",
          "text": [
            "Cleaned Sentences: ['increase price increase open interest interpreted indication new money coming indicates continuance uptrend', 'increase price decrease open interest interpreted short covering positions', 'decrease price increase open interest interpreted newly build short positions weakness predicted', 'decrease price decrease open interest interpreted traders unwinding long positions selling existing contracts']\n"
          ]
        }
      ]
    },
    {
      "cell_type": "markdown",
      "source": [
        "#### **1.5 Stemming and Lemmatization**\n",
        "\n",
        "These steps reduce words to their root forms. Stemming can be helpful, but lemmatization often yields more readable results (e.g., “stocks” becomes “stock”)"
      ],
      "metadata": {
        "id": "n6FAKBVVAYsr"
      }
    },
    {
      "cell_type": "code",
      "source": [
        "from nltk.stem import WordNetLemmatizer\n",
        "nltk.download('wordnet')\n",
        "\n",
        "lemmatizer = WordNetLemmatizer()\n",
        "lemmatized_sentences = []\n",
        "for sentence in cleaned_sentences:\n",
        "    lemmatized_sentence = \" \".join([lemmatizer.lemmatize(word) for word in sentence.split()])\n",
        "    lemmatized_sentences.append(lemmatized_sentence)\n",
        "\n",
        "print(\"Lemmatized Sentences:\", lemmatized_sentences)\n"
      ],
      "metadata": {
        "colab": {
          "base_uri": "https://localhost:8080/",
          "height": 104
        },
        "id": "C1r38d4DAkvx",
        "outputId": "4d429792-f1e4-47c6-b020-d5cc6b4c6077"
      },
      "execution_count": null,
      "outputs": [
        {
          "output_type": "display_data",
          "data": {
            "text/plain": [
              "<IPython.core.display.HTML object>"
            ],
            "text/html": [
              "\n",
              "  <style>\n",
              "    pre {\n",
              "        white-space: pre-wrap;\n",
              "    }\n",
              "  </style>\n",
              "  "
            ]
          },
          "metadata": {}
        },
        {
          "output_type": "stream",
          "name": "stderr",
          "text": [
            "[nltk_data] Downloading package wordnet to /root/nltk_data...\n",
            "[nltk_data]   Package wordnet is already up-to-date!\n"
          ]
        },
        {
          "output_type": "stream",
          "name": "stdout",
          "text": [
            "Lemmatized Sentences: ['increase price increase open interest interpreted indication new money coming indicates continuance uptrend', 'increase price decrease open interest interpreted short covering position', 'decrease price increase open interest interpreted newly build short position weakness predicted', 'decrease price decrease open interest interpreted trader unwinding long position selling existing contract']\n"
          ]
        }
      ]
    },
    {
      "cell_type": "markdown",
      "source": [
        "#### **1.6 Part of Speech (Pos) Tagging** [Optional]\n",
        "\n",
        "PoS tagging helps NLP tasks by:\n",
        "\n",
        "* Improving Contextual Understanding: Tags like nouns, verbs, adjectives\n",
        " etc. providing context, clarifying the function of each word\n",
        "* Selective Feature Extraction: PoS tags enable us to focus on specific word types (e.g.: only nouns or adjectives) that might be more informative for classification or sentiment\n",
        "* Supporting Higher-Level Tasks: Helps in advanced NLP tasks like named entity recognition, parsing, sentiment analysis etc. by providing grammatical structure\n"
      ],
      "metadata": {
        "id": "Dg-ns_lYBC3K"
      }
    },
    {
      "cell_type": "code",
      "source": [
        "nltk.download('averaged_perceptron_tagger')\n",
        "\n",
        "# PoS tagging\n",
        "pos_tagged_sentences = [nltk.pos_tag(sentence.split()) for sentence in lemmatized_sentences]\n",
        "print(\"PoS Tagged Sentences:\", pos_tagged_sentences)\n"
      ],
      "metadata": {
        "colab": {
          "base_uri": "https://localhost:8080/",
          "height": 208
        },
        "id": "k4pS2ui4BlTx",
        "outputId": "5cddd9da-371e-4600-f70b-be2e3a16e7c2"
      },
      "execution_count": null,
      "outputs": [
        {
          "output_type": "display_data",
          "data": {
            "text/plain": [
              "<IPython.core.display.HTML object>"
            ],
            "text/html": [
              "\n",
              "  <style>\n",
              "    pre {\n",
              "        white-space: pre-wrap;\n",
              "    }\n",
              "  </style>\n",
              "  "
            ]
          },
          "metadata": {}
        },
        {
          "output_type": "stream",
          "name": "stderr",
          "text": [
            "[nltk_data] Downloading package averaged_perceptron_tagger to\n",
            "[nltk_data]     /root/nltk_data...\n",
            "[nltk_data]   Package averaged_perceptron_tagger is already up-to-\n",
            "[nltk_data]       date!\n"
          ]
        },
        {
          "output_type": "stream",
          "name": "stdout",
          "text": [
            "PoS Tagged Sentences: [[('increase', 'NN'), ('price', 'NN'), ('increase', 'NN'), ('open', 'JJ'), ('interest', 'NN'), ('interpreted', 'VBN'), ('indication', 'NN'), ('new', 'JJ'), ('money', 'NN'), ('coming', 'VBG'), ('indicates', 'NNS'), ('continuance', 'NN'), ('uptrend', 'VBP')], [('increase', 'NN'), ('price', 'NN'), ('decrease', 'NN'), ('open', 'JJ'), ('interest', 'NN'), ('interpreted', 'VBN'), ('short', 'JJ'), ('covering', 'VBG'), ('position', 'NN')], [('decrease', 'NN'), ('price', 'NN'), ('increase', 'NN'), ('open', 'JJ'), ('interest', 'NN'), ('interpreted', 'VBN'), ('newly', 'RB'), ('build', 'VB'), ('short', 'JJ'), ('position', 'NN'), ('weakness', 'NN'), ('predicted', 'VBD')], [('decrease', 'NN'), ('price', 'NN'), ('decrease', 'NN'), ('open', 'JJ'), ('interest', 'NN'), ('interpreted', 'VBN'), ('trader', 'NN'), ('unwinding', 'VBG'), ('long', 'JJ'), ('position', 'NN'), ('selling', 'VBG'), ('existing', 'VBG'), ('contract', 'NN')]]\n"
          ]
        }
      ]
    },
    {
      "cell_type": "markdown",
      "source": [
        "#### **1.7 Sequencing and Tagging**\n",
        "\n",
        "We have already seen how we can apply sequencing and tagging to tokenized sentences to convert text into a structured sequence of tokens and apply padding to make all sequences uniform in length. Here we apply the same on the lemmatized text:"
      ],
      "metadata": {
        "id": "JdH3QTbsBoZL"
      }
    },
    {
      "cell_type": "code",
      "source": [
        "# Tokenizing lemmatized text\n",
        "tokenizer.fit_on_texts(lemmatized_sentences)\n",
        "sequences = tokenizer.texts_to_sequences(lemmatized_sentences)\n",
        "padded_sequences = pad_sequences(sequences, padding='post', maxlen=10)\n",
        "\n",
        "print(\"Final Tokenized & Padded Sequences:\\n\", padded_sequences)\n"
      ],
      "metadata": {
        "colab": {
          "base_uri": "https://localhost:8080/",
          "height": 104
        },
        "id": "eiuymZbuCUW-",
        "outputId": "6baeb8d5-ca2d-42ed-e758-56b5f016185d"
      },
      "execution_count": null,
      "outputs": [
        {
          "output_type": "display_data",
          "data": {
            "text/plain": [
              "<IPython.core.display.HTML object>"
            ],
            "text/html": [
              "\n",
              "  <style>\n",
              "    pre {\n",
              "        white-space: pre-wrap;\n",
              "    }\n",
              "  </style>\n",
              "  "
            ]
          },
          "metadata": {}
        },
        {
          "output_type": "stream",
          "name": "stdout",
          "text": [
            "Final Tokenized & Padded Sequences:\n",
            " [[ 5  6  7 17 18 19 20 21 23 24]\n",
            " [ 2  4  8  5  6  7 13 25 16  0]\n",
            " [ 2  5  6  7 26 27 13 16 28 29]\n",
            " [ 5  6  7 39 30 31 16 32 33 40]]\n"
          ]
        }
      ]
    },
    {
      "cell_type": "markdown",
      "source": [
        "#### **1.8 Summarization**\n",
        "\n",
        "Here, we shall cover a complete function to perform text pre-processing using everything we have covered so far"
      ],
      "metadata": {
        "id": "MsCckYZhDG9v"
      }
    },
    {
      "cell_type": "code",
      "source": [
        "# Necessary imports\n",
        "import nltk\n",
        "import re\n",
        "from tensorflow.keras.preprocessing.text import Tokenizer\n",
        "from tensorflow.keras.preprocessing.sequence import pad_sequences\n",
        "from nltk.corpus import stopwords\n",
        "from nltk.stem import WordNetLemmatizer\n",
        "\n",
        "# Download necessary NLTK data\n",
        "nltk.download('stopwords')\n",
        "nltk.download('wordnet')\n",
        "nltk.download('averaged_perceptron_tagger')"
      ],
      "metadata": {
        "colab": {
          "base_uri": "https://localhost:8080/",
          "height": 173
        },
        "id": "Hl0fuyjRDX9W",
        "outputId": "6b2a691e-794d-4dc0-bfeb-1f32f7ce9c13"
      },
      "execution_count": null,
      "outputs": [
        {
          "output_type": "display_data",
          "data": {
            "text/plain": [
              "<IPython.core.display.HTML object>"
            ],
            "text/html": [
              "\n",
              "  <style>\n",
              "    pre {\n",
              "        white-space: pre-wrap;\n",
              "    }\n",
              "  </style>\n",
              "  "
            ]
          },
          "metadata": {}
        },
        {
          "output_type": "stream",
          "name": "stderr",
          "text": [
            "[nltk_data] Downloading package stopwords to /root/nltk_data...\n",
            "[nltk_data]   Package stopwords is already up-to-date!\n",
            "[nltk_data] Downloading package wordnet to /root/nltk_data...\n",
            "[nltk_data]   Package wordnet is already up-to-date!\n",
            "[nltk_data] Downloading package averaged_perceptron_tagger to\n",
            "[nltk_data]     /root/nltk_data...\n",
            "[nltk_data]   Package averaged_perceptron_tagger is already up-to-\n",
            "[nltk_data]       date!\n"
          ]
        },
        {
          "output_type": "execute_result",
          "data": {
            "text/plain": [
              "True"
            ]
          },
          "metadata": {},
          "execution_count": 14
        }
      ]
    },
    {
      "cell_type": "code",
      "source": [
        "\n",
        "# Initializing tokenizer and lemmatizer globally\n",
        "tokenizer = Tokenizer(num_words=150, oov_token=\"<OOV>\")\n",
        "lemmatizer = WordNetLemmatizer()\n",
        "stop_words = set(stopwords.words('english')) - {'price', 'interest'}\n",
        "\n",
        "def preprocess_text(sentences, maxlen=10):\n",
        "    # Lowercasing\n",
        "    sentences = [sentence.lower() for sentence in sentences]\n",
        "\n",
        "    # Removing stopwords\n",
        "    filtered_sentences = []\n",
        "    for sentence in sentences:\n",
        "        filtered_sentence = \" \".join([word for word in sentence.split() if word not in stop_words])\n",
        "        filtered_sentences.append(filtered_sentence)\n",
        "\n",
        "    # Removing punctuation and special characters\n",
        "    cleaned_sentences = [re.sub(r'[^a-zA-Z0-9\\s]', '', sentence) for sentence in filtered_sentences]\n",
        "\n",
        "    # Lemmatization\n",
        "    lemmatized_sentences = []\n",
        "    for sentence in cleaned_sentences:\n",
        "        lemmatized_sentence = \" \".join([lemmatizer.lemmatize(word) for word in sentence.split()])\n",
        "        lemmatized_sentences.append(lemmatized_sentence)\n",
        "\n",
        "    # Tokenizing and padding sequences\n",
        "    tokenizer.fit_on_texts(lemmatized_sentences)\n",
        "    sequences = tokenizer.texts_to_sequences(lemmatized_sentences)\n",
        "    padded_sequences = pad_sequences(sequences, padding='post', maxlen=maxlen)\n",
        "\n",
        "    return padded_sequences\n",
        "\n",
        "# Example usage\n",
        "sentences_revisited = [\n",
        "    'Increase in Price and Increase in Open Interest can be interpreted as indication of new money coming and indicates further continuance of uptrend',\n",
        "    'Increase in Price and Decrease in Open Interest can be interpreted as short covering of positions',\n",
        "    'Decrease in Price and Increase in Open Interest can be interpreted as newly built short positions and further weakness is predicted',\n",
        "    'Decrease in Price and Decrease in Open Interest can be interpreted as traders unwinding their long positions by selling existing contracts'\n",
        "]\n",
        "\n",
        "preprocessed_data = preprocess_text(sentences_revisited)\n",
        "print(\"Preprocessed and Padded Sequences:\\n\", preprocessed_data)\n"
      ],
      "metadata": {
        "colab": {
          "base_uri": "https://localhost:8080/",
          "height": 104
        },
        "id": "kXpngp_bDU-Y",
        "outputId": "adf88fb6-2a0a-4502-9d41-c5141e6fc852"
      },
      "execution_count": null,
      "outputs": [
        {
          "output_type": "display_data",
          "data": {
            "text/plain": [
              "<IPython.core.display.HTML object>"
            ],
            "text/html": [
              "\n",
              "  <style>\n",
              "    pre {\n",
              "        white-space: pre-wrap;\n",
              "    }\n",
              "  </style>\n",
              "  "
            ]
          },
          "metadata": {}
        },
        {
          "output_type": "stream",
          "name": "stdout",
          "text": [
            "Preprocessed and Padded Sequences:\n",
            " [[ 4  5  6 10 11 12 13 14 15 16]\n",
            " [ 2  3  7  4  5  6  9 17  8  0]\n",
            " [ 2  4  5  6 18 19  9  8 20 21]\n",
            " [ 4  5  6 22 23 24  8 25 26 27]]\n"
          ]
        }
      ]
    },
    {
      "cell_type": "markdown",
      "source": [
        "Thus, having covered the pre-requisites of text pre-processing, we shall move on to building and training models for sentiment analysis"
      ],
      "metadata": {
        "id": "2V881nQGXoaj"
      }
    },
    {
      "cell_type": "markdown",
      "source": [
        "## 2. Training a Model for Sentiment Analysis using Financial News Headlines\n",
        "\n",
        "Here, we shall import a dataset containing financial news headlines in CSV format ([available on Kaggle](https://www.kaggle.com/datasets/ankurzing/sentiment-analysis-for-financial-news?resource=download)) and train a model to detect optimism or caution.\n",
        "\n",
        "We startby loading the CSV file into a Pandas Dataframe and thereafter convert the same into json-like format by creating a list of dictionaries"
      ],
      "metadata": {
        "id": "bJfZfzoAIPil"
      }
    },
    {
      "cell_type": "code",
      "source": [
        "import pandas as pd\n",
        "\n",
        "# Load the CSV file\n",
        "data = pd.read_csv('all-data.csv', encoding='ISO-8859-1')\n",
        "\n",
        "# Check first few rows\n",
        "print(data.head())\n"
      ],
      "metadata": {
        "colab": {
          "base_uri": "https://localhost:8080/",
          "height": 243
        },
        "id": "Fy64cpkFDMIY",
        "outputId": "204be09a-d8d5-45ce-afc2-2c7347aadf19"
      },
      "execution_count": null,
      "outputs": [
        {
          "output_type": "display_data",
          "data": {
            "text/plain": [
              "<IPython.core.display.HTML object>"
            ],
            "text/html": [
              "\n",
              "  <style>\n",
              "    pre {\n",
              "        white-space: pre-wrap;\n",
              "    }\n",
              "  </style>\n",
              "  "
            ]
          },
          "metadata": {}
        },
        {
          "output_type": "stream",
          "name": "stdout",
          "text": [
            "    neutral  \\\n",
            "0   neutral   \n",
            "1  negative   \n",
            "2  positive   \n",
            "3  positive   \n",
            "4  positive   \n",
            "\n",
            "  According to Gran , the company has no plans to move all production to Russia , although that is where the company is growing .  \n",
            "0  Technopolis plans to develop in stages an area...                                                                               \n",
            "1  The international electronic industry company ...                                                                               \n",
            "2  With the new production plant the company woul...                                                                               \n",
            "3  According to the company 's updated strategy f...                                                                               \n",
            "4  FINANCING OF ASPOCOMP 'S GROWTH Aspocomp is ag...                                                                               \n"
          ]
        }
      ]
    },
    {
      "cell_type": "code",
      "source": [
        "# Rename columns for clarity\n",
        "data.columns = ['Sentiment', 'Headline']\n",
        "\n",
        "print(data.head())\n"
      ],
      "metadata": {
        "colab": {
          "base_uri": "https://localhost:8080/",
          "height": 121
        },
        "id": "WrJp3xpcO8s-",
        "outputId": "18773e66-6373-4b94-d1be-fd58d3c1a55a"
      },
      "execution_count": null,
      "outputs": [
        {
          "output_type": "display_data",
          "data": {
            "text/plain": [
              "<IPython.core.display.HTML object>"
            ],
            "text/html": [
              "\n",
              "  <style>\n",
              "    pre {\n",
              "        white-space: pre-wrap;\n",
              "    }\n",
              "  </style>\n",
              "  "
            ]
          },
          "metadata": {}
        },
        {
          "output_type": "stream",
          "name": "stdout",
          "text": [
            "  Sentiment                                           Headline\n",
            "0   neutral  Technopolis plans to develop in stages an area...\n",
            "1  negative  The international electronic industry company ...\n",
            "2  positive  With the new production plant the company woul...\n",
            "3  positive  According to the company 's updated strategy f...\n",
            "4  positive  FINANCING OF ASPOCOMP 'S GROWTH Aspocomp is ag...\n"
          ]
        }
      ]
    },
    {
      "cell_type": "code",
      "source": [
        "# Remapping sentiment labels\n",
        "def remap_sentiment(label):\n",
        "    if label == 'neutral':\n",
        "        return 'neutral'\n",
        "    elif label == 'positive':\n",
        "        return 'optimism'\n",
        "    elif label == 'negative':\n",
        "        return 'caution'\n",
        "    else:\n",
        "        return label\n",
        "\n",
        "# Applying remapping to the sentiment column\n",
        "data['mapped_sentiment'] = data['Sentiment'].apply(remap_sentiment)\n",
        "\n",
        "# Displaying updated DataFrame\n",
        "print(data[['Headline', 'mapped_sentiment']].head())\n"
      ],
      "metadata": {
        "colab": {
          "base_uri": "https://localhost:8080/",
          "height": 121
        },
        "id": "ev4BQBH9QS17",
        "outputId": "4e51f44d-13b3-4e4f-ba95-710938f32dc6"
      },
      "execution_count": null,
      "outputs": [
        {
          "output_type": "display_data",
          "data": {
            "text/plain": [
              "<IPython.core.display.HTML object>"
            ],
            "text/html": [
              "\n",
              "  <style>\n",
              "    pre {\n",
              "        white-space: pre-wrap;\n",
              "    }\n",
              "  </style>\n",
              "  "
            ]
          },
          "metadata": {}
        },
        {
          "output_type": "stream",
          "name": "stdout",
          "text": [
            "                                            Headline mapped_sentiment\n",
            "0  Technopolis plans to develop in stages an area...          neutral\n",
            "1  The international electronic industry company ...          caution\n",
            "2  With the new production plant the company woul...         optimism\n",
            "3  According to the company 's updated strategy f...         optimism\n",
            "4  FINANCING OF ASPOCOMP 'S GROWTH Aspocomp is ag...         optimism\n"
          ]
        }
      ]
    },
    {
      "cell_type": "code",
      "source": [
        "# Saving to JSON file\n",
        "data[['Headline', 'mapped_sentiment']].to_json('financial_headlines.json', orient='records', lines=True)\n"
      ],
      "metadata": {
        "colab": {
          "base_uri": "https://localhost:8080/",
          "height": 17
        },
        "id": "gX0NjeHgQB_g",
        "outputId": "138173e7-c51d-4839-bdb6-a610a75946d3"
      },
      "execution_count": null,
      "outputs": [
        {
          "output_type": "display_data",
          "data": {
            "text/plain": [
              "<IPython.core.display.HTML object>"
            ],
            "text/html": [
              "\n",
              "  <style>\n",
              "    pre {\n",
              "        white-space: pre-wrap;\n",
              "    }\n",
              "  </style>\n",
              "  "
            ]
          },
          "metadata": {}
        }
      ]
    },
    {
      "cell_type": "markdown",
      "source": [
        "Now we proceed to perform Sentiment Analysis using TensorFlow"
      ],
      "metadata": {
        "id": "wK9uMYRwRIn-"
      }
    },
    {
      "cell_type": "code",
      "source": [
        "# Install necessary libraries if not already installed\n",
        "# %pip install tensorflow"
      ],
      "metadata": {
        "colab": {
          "base_uri": "https://localhost:8080/",
          "height": 17
        },
        "id": "t8JdS_BKRVzC",
        "outputId": "83918f0f-267c-47f8-cdae-d32f6eab92e9"
      },
      "execution_count": null,
      "outputs": [
        {
          "output_type": "display_data",
          "data": {
            "text/plain": [
              "<IPython.core.display.HTML object>"
            ],
            "text/html": [
              "\n",
              "  <style>\n",
              "    pre {\n",
              "        white-space: pre-wrap;\n",
              "    }\n",
              "  </style>\n",
              "  "
            ]
          },
          "metadata": {}
        }
      ]
    },
    {
      "cell_type": "code",
      "source": [
        "# Importing necessary libraries\n",
        "import tensorflow as tf\n",
        "import pandas as pd\n",
        "import json\n",
        "import numpy as np\n",
        "from tensorflow.keras.preprocessing.text import Tokenizer\n",
        "from tensorflow.keras.preprocessing.sequence import pad_sequences\n",
        "import matplotlib.pyplot as plt\n",
        "import io"
      ],
      "metadata": {
        "colab": {
          "base_uri": "https://localhost:8080/",
          "height": 17
        },
        "id": "tqRjG93jROge",
        "outputId": "42323df3-2aef-4c5d-f251-619eb5c6803c"
      },
      "execution_count": null,
      "outputs": [
        {
          "output_type": "display_data",
          "data": {
            "text/plain": [
              "<IPython.core.display.HTML object>"
            ],
            "text/html": [
              "\n",
              "  <style>\n",
              "    pre {\n",
              "        white-space: pre-wrap;\n",
              "    }\n",
              "  </style>\n",
              "  "
            ]
          },
          "metadata": {}
        }
      ]
    },
    {
      "cell_type": "code",
      "source": [
        "# Load and Prepare Data\n",
        "# Load JSON file\n",
        "with open('financial_headlines.json', 'r') as f:\n",
        "    datastore = [json.loads(line) for line in f]\n",
        "\n",
        "# Extract sentences and labels\n",
        "sentences = []\n",
        "labels = []\n",
        "for item in datastore:\n",
        "    sentences.append(item['Headline'])\n",
        "    labels.append(1 if item['mapped_sentiment'] == 'optimism' else 0)  # assuming '1' for optimism, '0' for caution\n"
      ],
      "metadata": {
        "colab": {
          "base_uri": "https://localhost:8080/",
          "height": 17
        },
        "id": "Blpnd7tDRcuN",
        "outputId": "19024d54-5ef5-4540-82e3-52dc962e4d5d"
      },
      "execution_count": null,
      "outputs": [
        {
          "output_type": "display_data",
          "data": {
            "text/plain": [
              "<IPython.core.display.HTML object>"
            ],
            "text/html": [
              "\n",
              "  <style>\n",
              "    pre {\n",
              "        white-space: pre-wrap;\n",
              "    }\n",
              "  </style>\n",
              "  "
            ]
          },
          "metadata": {}
        }
      ]
    },
    {
      "cell_type": "code",
      "source": [
        "# Splitting data into training and testing\n",
        "training_size = int(len(sentences) * 0.8)\n",
        "\n",
        "training_sentences = sentences[:training_size]\n",
        "testing_sentences = sentences[training_size:]\n",
        "training_labels = labels[:training_size]\n",
        "testing_labels = labels[training_size:]"
      ],
      "metadata": {
        "colab": {
          "base_uri": "https://localhost:8080/",
          "height": 17
        },
        "id": "AF71_ZSCRpK6",
        "outputId": "b3c715b5-1834-4c72-84a9-1cb6bafdba39"
      },
      "execution_count": null,
      "outputs": [
        {
          "output_type": "display_data",
          "data": {
            "text/plain": [
              "<IPython.core.display.HTML object>"
            ],
            "text/html": [
              "\n",
              "  <style>\n",
              "    pre {\n",
              "        white-space: pre-wrap;\n",
              "    }\n",
              "  </style>\n",
              "  "
            ]
          },
          "metadata": {}
        }
      ]
    },
    {
      "cell_type": "code",
      "source": [
        "# Tokenization and Padding\n",
        "vocab_size = 10000\n",
        "embedding_dim = 16\n",
        "max_length = 100\n",
        "trunc_type = 'post'\n",
        "padding_type = 'post'\n",
        "oov_tok = \"<OOV>\""
      ],
      "metadata": {
        "colab": {
          "base_uri": "https://localhost:8080/",
          "height": 17
        },
        "id": "JQVySb8VRyC6",
        "outputId": "676c569c-101e-436f-db3b-86c9d2ac7a01"
      },
      "execution_count": null,
      "outputs": [
        {
          "output_type": "display_data",
          "data": {
            "text/plain": [
              "<IPython.core.display.HTML object>"
            ],
            "text/html": [
              "\n",
              "  <style>\n",
              "    pre {\n",
              "        white-space: pre-wrap;\n",
              "    }\n",
              "  </style>\n",
              "  "
            ]
          },
          "metadata": {}
        }
      ]
    },
    {
      "cell_type": "code",
      "source": [
        "# Initialize tokenizer and fit on training data\n",
        "tokenizer = Tokenizer(num_words=vocab_size, oov_token=oov_tok)\n",
        "tokenizer.fit_on_texts(training_sentences)\n",
        "\n",
        "word_index = tokenizer.word_index\n",
        "\n",
        "# Convert text to sequences and pad\n",
        "training_sequences = tokenizer.texts_to_sequences(training_sentences)\n",
        "training_padded = pad_sequences(training_sequences, maxlen=max_length, padding=padding_type, truncating=trunc_type)\n",
        "\n",
        "testing_sequences = tokenizer.texts_to_sequences(testing_sentences)\n",
        "testing_padded = pad_sequences(testing_sequences, maxlen=max_length, padding=padding_type, truncating=trunc_type)\n"
      ],
      "metadata": {
        "colab": {
          "base_uri": "https://localhost:8080/",
          "height": 17
        },
        "id": "hTA2Il19R6rW",
        "outputId": "dae5d9bd-07df-491a-ca72-40645915cd86"
      },
      "execution_count": null,
      "outputs": [
        {
          "output_type": "display_data",
          "data": {
            "text/plain": [
              "<IPython.core.display.HTML object>"
            ],
            "text/html": [
              "\n",
              "  <style>\n",
              "    pre {\n",
              "        white-space: pre-wrap;\n",
              "    }\n",
              "  </style>\n",
              "  "
            ]
          },
          "metadata": {}
        }
      ]
    },
    {
      "cell_type": "code",
      "source": [
        "# Converting labels to numpy arrays\n",
        "training_padded = np.array(training_padded)\n",
        "training_labels = np.array(training_labels)\n",
        "testing_padded = np.array(testing_padded)\n",
        "testing_labels = np.array(testing_labels)"
      ],
      "metadata": {
        "colab": {
          "base_uri": "https://localhost:8080/",
          "height": 17
        },
        "id": "pYHgLFD9SLGq",
        "outputId": "3255cdf8-d717-49fe-eced-501dbb22a428"
      },
      "execution_count": null,
      "outputs": [
        {
          "output_type": "display_data",
          "data": {
            "text/plain": [
              "<IPython.core.display.HTML object>"
            ],
            "text/html": [
              "\n",
              "  <style>\n",
              "    pre {\n",
              "        white-space: pre-wrap;\n",
              "    }\n",
              "  </style>\n",
              "  "
            ]
          },
          "metadata": {}
        }
      ]
    },
    {
      "cell_type": "markdown",
      "source": [
        "Below, we define our model which has been designed to classify financial headlines as \"optimism\" or \"caution\" using an embedding layer, a global average pooling layer to reduce dimensionality and two dense layers for prediction. The sigmoid activation in the output layer is suited for binary classification.\n"
      ],
      "metadata": {
        "id": "x8wN1NzMYMII"
      }
    },
    {
      "cell_type": "code",
      "source": [
        "# Define the Model\n",
        "model = tf.keras.Sequential([\n",
        "    tf.keras.layers.Embedding(vocab_size, embedding_dim),\n",
        "    tf.keras.layers.GlobalAveragePooling1D(),\n",
        "    tf.keras.layers.Dense(24, activation='relu'),\n",
        "    tf.keras.layers.Dense(1, activation='sigmoid')\n",
        "])\n",
        "model.compile(loss='binary_crossentropy', optimizer='adam', metrics=['accuracy'])"
      ],
      "metadata": {
        "colab": {
          "base_uri": "https://localhost:8080/",
          "height": 17
        },
        "id": "NVAYlN6MSNUK",
        "outputId": "5c86b448-0e51-47c8-daf4-9ab364b298e7"
      },
      "execution_count": null,
      "outputs": [
        {
          "output_type": "display_data",
          "data": {
            "text/plain": [
              "<IPython.core.display.HTML object>"
            ],
            "text/html": [
              "\n",
              "  <style>\n",
              "    pre {\n",
              "        white-space: pre-wrap;\n",
              "    }\n",
              "  </style>\n",
              "  "
            ]
          },
          "metadata": {}
        }
      ]
    },
    {
      "cell_type": "code",
      "source": [
        "# Model Summary\n",
        "model.summary()"
      ],
      "metadata": {
        "colab": {
          "base_uri": "https://localhost:8080/",
          "height": 273
        },
        "id": "EN_ICbHVSXsp",
        "outputId": "1771ec8d-46df-427b-fc31-be68689df828"
      },
      "execution_count": null,
      "outputs": [
        {
          "output_type": "display_data",
          "data": {
            "text/plain": [
              "<IPython.core.display.HTML object>"
            ],
            "text/html": [
              "\n",
              "  <style>\n",
              "    pre {\n",
              "        white-space: pre-wrap;\n",
              "    }\n",
              "  </style>\n",
              "  "
            ]
          },
          "metadata": {}
        },
        {
          "output_type": "display_data",
          "data": {
            "text/plain": [
              "\u001b[1mModel: \"sequential\"\u001b[0m\n"
            ],
            "text/html": [
              "<pre style=\"white-space:pre;overflow-x:auto;line-height:normal;font-family:Menlo,'DejaVu Sans Mono',consolas,'Courier New',monospace\"><span style=\"font-weight: bold\">Model: \"sequential\"</span>\n",
              "</pre>\n"
            ]
          },
          "metadata": {}
        },
        {
          "output_type": "display_data",
          "data": {
            "text/plain": [
              "┏━━━━━━━━━━━━━━━━━━━━━━━━━━━━━━━━━━━━━━┳━━━━━━━━━━━━━━━━━━━━━━━━━━━━━┳━━━━━━━━━━━━━━━━━┓\n",
              "┃\u001b[1m \u001b[0m\u001b[1mLayer (type)                        \u001b[0m\u001b[1m \u001b[0m┃\u001b[1m \u001b[0m\u001b[1mOutput Shape               \u001b[0m\u001b[1m \u001b[0m┃\u001b[1m \u001b[0m\u001b[1m        Param #\u001b[0m\u001b[1m \u001b[0m┃\n",
              "┡━━━━━━━━━━━━━━━━━━━━━━━━━━━━━━━━━━━━━━╇━━━━━━━━━━━━━━━━━━━━━━━━━━━━━╇━━━━━━━━━━━━━━━━━┩\n",
              "│ embedding (\u001b[38;5;33mEmbedding\u001b[0m)                │ ?                           │     \u001b[38;5;34m0\u001b[0m (unbuilt) │\n",
              "├──────────────────────────────────────┼─────────────────────────────┼─────────────────┤\n",
              "│ global_average_pooling1d             │ ?                           │     \u001b[38;5;34m0\u001b[0m (unbuilt) │\n",
              "│ (\u001b[38;5;33mGlobalAveragePooling1D\u001b[0m)             │                             │                 │\n",
              "├──────────────────────────────────────┼─────────────────────────────┼─────────────────┤\n",
              "│ dense (\u001b[38;5;33mDense\u001b[0m)                        │ ?                           │     \u001b[38;5;34m0\u001b[0m (unbuilt) │\n",
              "├──────────────────────────────────────┼─────────────────────────────┼─────────────────┤\n",
              "│ dense_1 (\u001b[38;5;33mDense\u001b[0m)                      │ ?                           │     \u001b[38;5;34m0\u001b[0m (unbuilt) │\n",
              "└──────────────────────────────────────┴─────────────────────────────┴─────────────────┘\n"
            ],
            "text/html": [
              "<pre style=\"white-space:pre;overflow-x:auto;line-height:normal;font-family:Menlo,'DejaVu Sans Mono',consolas,'Courier New',monospace\">┏━━━━━━━━━━━━━━━━━━━━━━━━━━━━━━━━━━━━━━┳━━━━━━━━━━━━━━━━━━━━━━━━━━━━━┳━━━━━━━━━━━━━━━━━┓\n",
              "┃<span style=\"font-weight: bold\"> Layer (type)                         </span>┃<span style=\"font-weight: bold\"> Output Shape                </span>┃<span style=\"font-weight: bold\">         Param # </span>┃\n",
              "┡━━━━━━━━━━━━━━━━━━━━━━━━━━━━━━━━━━━━━━╇━━━━━━━━━━━━━━━━━━━━━━━━━━━━━╇━━━━━━━━━━━━━━━━━┩\n",
              "│ embedding (<span style=\"color: #0087ff; text-decoration-color: #0087ff\">Embedding</span>)                │ ?                           │     <span style=\"color: #00af00; text-decoration-color: #00af00\">0</span> (unbuilt) │\n",
              "├──────────────────────────────────────┼─────────────────────────────┼─────────────────┤\n",
              "│ global_average_pooling1d             │ ?                           │     <span style=\"color: #00af00; text-decoration-color: #00af00\">0</span> (unbuilt) │\n",
              "│ (<span style=\"color: #0087ff; text-decoration-color: #0087ff\">GlobalAveragePooling1D</span>)             │                             │                 │\n",
              "├──────────────────────────────────────┼─────────────────────────────┼─────────────────┤\n",
              "│ dense (<span style=\"color: #0087ff; text-decoration-color: #0087ff\">Dense</span>)                        │ ?                           │     <span style=\"color: #00af00; text-decoration-color: #00af00\">0</span> (unbuilt) │\n",
              "├──────────────────────────────────────┼─────────────────────────────┼─────────────────┤\n",
              "│ dense_1 (<span style=\"color: #0087ff; text-decoration-color: #0087ff\">Dense</span>)                      │ ?                           │     <span style=\"color: #00af00; text-decoration-color: #00af00\">0</span> (unbuilt) │\n",
              "└──────────────────────────────────────┴─────────────────────────────┴─────────────────┘\n",
              "</pre>\n"
            ]
          },
          "metadata": {}
        },
        {
          "output_type": "display_data",
          "data": {
            "text/plain": [
              "\u001b[1m Total params: \u001b[0m\u001b[38;5;34m0\u001b[0m (0.00 B)\n"
            ],
            "text/html": [
              "<pre style=\"white-space:pre;overflow-x:auto;line-height:normal;font-family:Menlo,'DejaVu Sans Mono',consolas,'Courier New',monospace\"><span style=\"font-weight: bold\"> Total params: </span><span style=\"color: #00af00; text-decoration-color: #00af00\">0</span> (0.00 B)\n",
              "</pre>\n"
            ]
          },
          "metadata": {}
        },
        {
          "output_type": "display_data",
          "data": {
            "text/plain": [
              "\u001b[1m Trainable params: \u001b[0m\u001b[38;5;34m0\u001b[0m (0.00 B)\n"
            ],
            "text/html": [
              "<pre style=\"white-space:pre;overflow-x:auto;line-height:normal;font-family:Menlo,'DejaVu Sans Mono',consolas,'Courier New',monospace\"><span style=\"font-weight: bold\"> Trainable params: </span><span style=\"color: #00af00; text-decoration-color: #00af00\">0</span> (0.00 B)\n",
              "</pre>\n"
            ]
          },
          "metadata": {}
        },
        {
          "output_type": "display_data",
          "data": {
            "text/plain": [
              "\u001b[1m Non-trainable params: \u001b[0m\u001b[38;5;34m0\u001b[0m (0.00 B)\n"
            ],
            "text/html": [
              "<pre style=\"white-space:pre;overflow-x:auto;line-height:normal;font-family:Menlo,'DejaVu Sans Mono',consolas,'Courier New',monospace\"><span style=\"font-weight: bold\"> Non-trainable params: </span><span style=\"color: #00af00; text-decoration-color: #00af00\">0</span> (0.00 B)\n",
              "</pre>\n"
            ]
          },
          "metadata": {}
        }
      ]
    },
    {
      "cell_type": "code",
      "source": [
        "# Train the Model\n",
        "num_epochs = 30\n",
        "history = model.fit(training_padded, training_labels, epochs=num_epochs, validation_data=(testing_padded, testing_labels), verbose=2)\n"
      ],
      "metadata": {
        "colab": {
          "base_uri": "https://localhost:8080/",
          "height": 1058
        },
        "id": "ywRMUlPNS0WK",
        "outputId": "46b04052-aeb7-4474-e204-109258a74ee1"
      },
      "execution_count": null,
      "outputs": [
        {
          "output_type": "display_data",
          "data": {
            "text/plain": [
              "<IPython.core.display.HTML object>"
            ],
            "text/html": [
              "\n",
              "  <style>\n",
              "    pre {\n",
              "        white-space: pre-wrap;\n",
              "    }\n",
              "  </style>\n",
              "  "
            ]
          },
          "metadata": {}
        },
        {
          "output_type": "stream",
          "name": "stdout",
          "text": [
            "Epoch 1/30\n",
            "122/122 - 7s - 59ms/step - accuracy: 0.6636 - loss: 0.6337 - val_accuracy: 0.9185 - val_loss: 0.4744\n",
            "Epoch 2/30\n",
            "122/122 - 2s - 15ms/step - accuracy: 0.6687 - loss: 0.6262 - val_accuracy: 0.9185 - val_loss: 0.4514\n",
            "Epoch 3/30\n",
            "122/122 - 3s - 22ms/step - accuracy: 0.6685 - loss: 0.6191 - val_accuracy: 0.9185 - val_loss: 0.4481\n",
            "Epoch 4/30\n",
            "122/122 - 2s - 14ms/step - accuracy: 0.6801 - loss: 0.5964 - val_accuracy: 0.8452 - val_loss: 0.4823\n",
            "Epoch 5/30\n",
            "122/122 - 1s - 12ms/step - accuracy: 0.7224 - loss: 0.5565 - val_accuracy: 0.6914 - val_loss: 0.6550\n",
            "Epoch 6/30\n",
            "122/122 - 2s - 19ms/step - accuracy: 0.7564 - loss: 0.5067 - val_accuracy: 0.6698 - val_loss: 0.7137\n",
            "Epoch 7/30\n",
            "122/122 - 1s - 10ms/step - accuracy: 0.7797 - loss: 0.4695 - val_accuracy: 0.6945 - val_loss: 0.6862\n",
            "Epoch 8/30\n",
            "122/122 - 1s - 11ms/step - accuracy: 0.8057 - loss: 0.4320 - val_accuracy: 0.7389 - val_loss: 0.5661\n",
            "Epoch 9/30\n",
            "122/122 - 1s - 10ms/step - accuracy: 0.8246 - loss: 0.3965 - val_accuracy: 0.6914 - val_loss: 0.7059\n",
            "Epoch 10/30\n",
            "122/122 - 2s - 14ms/step - accuracy: 0.8470 - loss: 0.3593 - val_accuracy: 0.7276 - val_loss: 0.5914\n",
            "Epoch 11/30\n",
            "122/122 - 3s - 22ms/step - accuracy: 0.8537 - loss: 0.3440 - val_accuracy: 0.5397 - val_loss: 1.0305\n",
            "Epoch 12/30\n",
            "122/122 - 2s - 14ms/step - accuracy: 0.8731 - loss: 0.3156 - val_accuracy: 0.6285 - val_loss: 0.8131\n",
            "Epoch 13/30\n",
            "122/122 - 1s - 10ms/step - accuracy: 0.8932 - loss: 0.2814 - val_accuracy: 0.6760 - val_loss: 0.6907\n",
            "Epoch 14/30\n",
            "122/122 - 1s - 10ms/step - accuracy: 0.8991 - loss: 0.2599 - val_accuracy: 0.6605 - val_loss: 0.7171\n",
            "Epoch 15/30\n",
            "122/122 - 1s - 8ms/step - accuracy: 0.9071 - loss: 0.2402 - val_accuracy: 0.6388 - val_loss: 0.7584\n",
            "Epoch 16/30\n",
            "122/122 - 1s - 11ms/step - accuracy: 0.9221 - loss: 0.2176 - val_accuracy: 0.6914 - val_loss: 0.6686\n",
            "Epoch 17/30\n",
            "122/122 - 1s - 10ms/step - accuracy: 0.9239 - loss: 0.2085 - val_accuracy: 0.6419 - val_loss: 0.7679\n",
            "Epoch 18/30\n",
            "122/122 - 1s - 11ms/step - accuracy: 0.9265 - loss: 0.1976 - val_accuracy: 0.6419 - val_loss: 0.7853\n",
            "Epoch 19/30\n",
            "122/122 - 1s - 7ms/step - accuracy: 0.9445 - loss: 0.1702 - val_accuracy: 0.6605 - val_loss: 0.7394\n",
            "Epoch 20/30\n",
            "122/122 - 1s - 5ms/step - accuracy: 0.9420 - loss: 0.1604 - val_accuracy: 0.7482 - val_loss: 0.5524\n",
            "Epoch 21/30\n",
            "122/122 - 1s - 5ms/step - accuracy: 0.9499 - loss: 0.1451 - val_accuracy: 0.7131 - val_loss: 0.6399\n",
            "Epoch 22/30\n",
            "122/122 - 1s - 8ms/step - accuracy: 0.9569 - loss: 0.1303 - val_accuracy: 0.5831 - val_loss: 0.9980\n",
            "Epoch 23/30\n",
            "122/122 - 1s - 11ms/step - accuracy: 0.9618 - loss: 0.1282 - val_accuracy: 0.6017 - val_loss: 0.9597\n",
            "Epoch 24/30\n",
            "122/122 - 1s - 8ms/step - accuracy: 0.9577 - loss: 0.1190 - val_accuracy: 0.6450 - val_loss: 0.8638\n",
            "Epoch 25/30\n",
            "122/122 - 1s - 4ms/step - accuracy: 0.9693 - loss: 0.1050 - val_accuracy: 0.6894 - val_loss: 0.7783\n",
            "Epoch 26/30\n",
            "122/122 - 1s - 5ms/step - accuracy: 0.9721 - loss: 0.0959 - val_accuracy: 0.6450 - val_loss: 0.9140\n",
            "Epoch 27/30\n",
            "122/122 - 1s - 5ms/step - accuracy: 0.9711 - loss: 0.0937 - val_accuracy: 0.7007 - val_loss: 0.7574\n",
            "Epoch 28/30\n",
            "122/122 - 1s - 4ms/step - accuracy: 0.9768 - loss: 0.0870 - val_accuracy: 0.7162 - val_loss: 0.7162\n",
            "Epoch 29/30\n",
            "122/122 - 1s - 5ms/step - accuracy: 0.9809 - loss: 0.0767 - val_accuracy: 0.6770 - val_loss: 0.8803\n",
            "Epoch 30/30\n",
            "122/122 - 1s - 5ms/step - accuracy: 0.9747 - loss: 0.0814 - val_accuracy: 0.6749 - val_loss: 0.9002\n"
          ]
        }
      ]
    },
    {
      "cell_type": "code",
      "source": [
        "# Plot Training and Validation Accuracy and Loss\n",
        "def plot_graphs(history, metric):\n",
        "    plt.plot(history.history[metric])\n",
        "    plt.plot(history.history['val_' + metric])\n",
        "    plt.xlabel(\"Epochs\")\n",
        "    plt.ylabel(metric)\n",
        "    plt.legend([metric, 'val_' + metric])\n",
        "    plt.show()\n",
        "\n",
        "plot_graphs(history, \"accuracy\")\n",
        "plot_graphs(history, \"loss\")"
      ],
      "metadata": {
        "colab": {
          "base_uri": "https://localhost:8080/",
          "height": 885
        },
        "id": "54kYOnz3S2XP",
        "outputId": "373ff8d4-6037-46fb-d3c0-2a94cb22a6ac"
      },
      "execution_count": null,
      "outputs": [
        {
          "output_type": "display_data",
          "data": {
            "text/plain": [
              "<IPython.core.display.HTML object>"
            ],
            "text/html": [
              "\n",
              "  <style>\n",
              "    pre {\n",
              "        white-space: pre-wrap;\n",
              "    }\n",
              "  </style>\n",
              "  "
            ]
          },
          "metadata": {}
        },
        {
          "output_type": "display_data",
          "data": {
            "text/plain": [
              "<Figure size 640x480 with 1 Axes>"
            ],
            "image/png": "[encoded data removed]"
          },
          "metadata": {}
        },
        {
          "output_type": "display_data",
          "data": {
            "text/plain": [
              "<Figure size 640x480 with 1 Axes>"
            ],
            "image/png": "[encoded data removed]"
          },
          "metadata": {}
        }
      ]
    },
    {
      "cell_type": "markdown",
      "source": [
        "From the above plots, it is evident that the model’s training accuracy steadily improved over the epochs, while validation accuracy showed variability. This may suggest that while the model is fitting well to the training data, it struggles to generalize. Such fluctuations are often mitigated through techniques like regularization, data augmentation or architecture adjustments.\n"
      ],
      "metadata": {
        "id": "cTH2CZ7gYaeF"
      }
    },
    {
      "cell_type": "code",
      "source": [
        "# Embedding Visualization\n",
        "reverse_word_index = dict([(value, key) for (key, value) in word_index.items()])\n",
        "\n",
        "def decode_sentence(text):\n",
        "    return ' '.join([reverse_word_index.get(i, '?') for i in text])\n",
        "\n",
        "# Example sentence decoding\n",
        "print(decode_sentence(training_padded[0]))\n",
        "print(training_sentences[2])\n",
        "print(labels[2])"
      ],
      "metadata": {
        "colab": {
          "base_uri": "https://localhost:8080/",
          "height": 121
        },
        "id": "Mm7PC_4ITH9H",
        "outputId": "52001a4f-5bf2-4c9f-b37c-8c15edd5e9ba"
      },
      "execution_count": null,
      "outputs": [
        {
          "output_type": "display_data",
          "data": {
            "text/plain": [
              "<IPython.core.display.HTML object>"
            ],
            "text/html": [
              "\n",
              "  <style>\n",
              "    pre {\n",
              "        white-space: pre-wrap;\n",
              "    }\n",
              "  </style>\n",
              "  "
            ]
          },
          "metadata": {}
        },
        {
          "output_type": "stream",
          "name": "stdout",
          "text": [
            "technopolis plans to develop in stages an area of no less than 100 000 square meters in order to host companies working in computer technologies and telecommunications the statement said ? ? ? ? ? ? ? ? ? ? ? ? ? ? ? ? ? ? ? ? ? ? ? ? ? ? ? ? ? ? ? ? ? ? ? ? ? ? ? ? ? ? ? ? ? ? ? ? ? ? ? ? ? ? ? ? ? ? ? ? ? ? ? ? ? ? ? ? ? ?\n",
            "With the new production plant the company would increase its capacity to meet the expected increase in demand and would improve the use of raw materials and therefore increase the production profitability .\n",
            "1\n"
          ]
        }
      ]
    },
    {
      "cell_type": "markdown",
      "source": [
        "The embedding layer transforms words into vectors that capture semantic relationships. By visualizing these embeddings, we can observe clusters of words that frequently appear together in optimistic or cautious contexts. Such visualization helps to understand how the model interprets financial language.\n",
        "\n",
        "\n",
        "We proceed to save the embeddings in TSV format, which can be visualized using TensorFlow’s Embedding Projector. This visualization helps to assess how well the model’s embeddings capture semantic relationships, though OOV words remain unrepresented.\n"
      ],
      "metadata": {
        "id": "W2ADeDHpZoaO"
      }
    },
    {
      "cell_type": "code",
      "source": [
        "# Saving Embeddings for Visualization\n",
        "e = model.layers[0]\n",
        "weights = e.get_weights()[0]\n",
        "print(weights.shape)  # Should print: (vocab_size, embedding_dim)\n",
        "\n",
        "out_v = io.open('vecs.tsv', 'w', encoding='utf-8')\n",
        "out_m = io.open('meta.tsv', 'w', encoding='utf-8')\n",
        "\n",
        "for word_num in reverse_word_index.keys():  # Loop only through existing word indices\n",
        "    word = reverse_word_index[word_num]\n",
        "    embeddings = weights[word_num]\n",
        "    out_m.write(word + \"\\n\")\n",
        "    out_v.write('\\t'.join([str(x) for x in embeddings]) + \"\\n\")\n",
        "\n",
        "out_v.close()\n",
        "out_m.close()\n"
      ],
      "metadata": {
        "colab": {
          "base_uri": "https://localhost:8080/",
          "height": 34
        },
        "id": "eZhVdJ8UTQ-E",
        "outputId": "5af872fc-413a-4cea-ec3e-9aa735bf1754"
      },
      "execution_count": null,
      "outputs": [
        {
          "output_type": "display_data",
          "data": {
            "text/plain": [
              "<IPython.core.display.HTML object>"
            ],
            "text/html": [
              "\n",
              "  <style>\n",
              "    pre {\n",
              "        white-space: pre-wrap;\n",
              "    }\n",
              "  </style>\n",
              "  "
            ]
          },
          "metadata": {}
        },
        {
          "output_type": "stream",
          "name": "stdout",
          "text": [
            "(10000, 16)\n"
          ]
        }
      ]
    },
    {
      "cell_type": "code",
      "source": [
        "# Downloading embedding files for visualization in projector\n",
        "try:\n",
        "    from google.colab import files\n",
        "    files.download('vecs.tsv')\n",
        "    files.download('meta.tsv')\n",
        "except ImportError:\n",
        "    pass"
      ],
      "metadata": {
        "colab": {
          "base_uri": "https://localhost:8080/",
          "height": 17
        },
        "id": "deXCwSHjUwld",
        "outputId": "296e4189-5f90-4d2b-f0ff-e4ed1ee173ac"
      },
      "execution_count": null,
      "outputs": [
        {
          "output_type": "display_data",
          "data": {
            "text/plain": [
              "<IPython.core.display.HTML object>"
            ],
            "text/html": [
              "\n",
              "  <style>\n",
              "    pre {\n",
              "        white-space: pre-wrap;\n",
              "    }\n",
              "  </style>\n",
              "  "
            ]
          },
          "metadata": {}
        },
        {
          "output_type": "display_data",
          "data": {
            "text/plain": [
              "<IPython.core.display.Javascript object>"
            ],
            "application/javascript": [
              "\n",
              "    async function download(id, filename, size) {\n",
              "      if (!google.colab.kernel.accessAllowed) {\n",
              "        return;\n",
              "      }\n",
              "      const div = document.createElement('div');\n",
              "      const label = document.createElement('label');\n",
              "      label.textContent = `Downloading \"${filename}\": `;\n",
              "      div.appendChild(label);\n",
              "      const progress = document.createElement('progress');\n",
              "      progress.max = size;\n",
              "      div.appendChild(progress);\n",
              "      document.body.appendChild(div);\n",
              "\n",
              "      const buffers = [];\n",
              "      let downloaded = 0;\n",
              "\n",
              "      const channel = await google.colab.kernel.comms.open(id);\n",
              "      // Send a message to notify the kernel that we're ready.\n",
              "      channel.send({})\n",
              "\n",
              "      for await (const message of channel.messages) {\n",
              "        // Send a message to notify the kernel that we're ready.\n",
              "        channel.send({})\n",
              "        if (message.buffers) {\n",
              "          for (const buffer of message.buffers) {\n",
              "            buffers.push(buffer);\n",
              "            downloaded += buffer.byteLength;\n",
              "            progress.value = downloaded;\n",
              "          }\n",
              "        }\n",
              "      }\n",
              "      const blob = new Blob(buffers, {type: 'application/binary'});\n",
              "      const a = document.createElement('a');\n",
              "      a.href = window.URL.createObjectURL(blob);\n",
              "      a.download = filename;\n",
              "      div.appendChild(a);\n",
              "      a.click();\n",
              "      div.remove();\n",
              "    }\n",
              "  "
            ]
          },
          "metadata": {}
        },
        {
          "output_type": "display_data",
          "data": {
            "text/plain": [
              "<IPython.core.display.Javascript object>"
            ],
            "application/javascript": [
              "download(\"download_4ff07219-857e-4bb4-a87a-a5606fa4e0b8\", \"vecs.tsv\", 1628611)"
            ]
          },
          "metadata": {}
        },
        {
          "output_type": "display_data",
          "data": {
            "text/plain": [
              "<IPython.core.display.Javascript object>"
            ],
            "application/javascript": [
              "\n",
              "    async function download(id, filename, size) {\n",
              "      if (!google.colab.kernel.accessAllowed) {\n",
              "        return;\n",
              "      }\n",
              "      const div = document.createElement('div');\n",
              "      const label = document.createElement('label');\n",
              "      label.textContent = `Downloading \"${filename}\": `;\n",
              "      div.appendChild(label);\n",
              "      const progress = document.createElement('progress');\n",
              "      progress.max = size;\n",
              "      div.appendChild(progress);\n",
              "      document.body.appendChild(div);\n",
              "\n",
              "      const buffers = [];\n",
              "      let downloaded = 0;\n",
              "\n",
              "      const channel = await google.colab.kernel.comms.open(id);\n",
              "      // Send a message to notify the kernel that we're ready.\n",
              "      channel.send({})\n",
              "\n",
              "      for await (const message of channel.messages) {\n",
              "        // Send a message to notify the kernel that we're ready.\n",
              "        channel.send({})\n",
              "        if (message.buffers) {\n",
              "          for (const buffer of message.buffers) {\n",
              "            buffers.push(buffer);\n",
              "            downloaded += buffer.byteLength;\n",
              "            progress.value = downloaded;\n",
              "          }\n",
              "        }\n",
              "      }\n",
              "      const blob = new Blob(buffers, {type: 'application/binary'});\n",
              "      const a = document.createElement('a');\n",
              "      a.href = window.URL.createObjectURL(blob);\n",
              "      a.download = filename;\n",
              "      div.appendChild(a);\n",
              "      a.click();\n",
              "      div.remove();\n",
              "    }\n",
              "  "
            ]
          },
          "metadata": {}
        },
        {
          "output_type": "display_data",
          "data": {
            "text/plain": [
              "<IPython.core.display.Javascript object>"
            ],
            "application/javascript": [
              "download(\"download_5ddae8c1-1da9-483e-942f-83322ad7ec53\", \"meta.tsv\", 69101)"
            ]
          },
          "metadata": {}
        }
      ]
    },
    {
      "cell_type": "code",
      "source": [
        "# Predicting Sentiments for New Sentences\n",
        "new_sentences = [\"The stock market shows signs of recovery\", \"Investors are concerned about inflation rates\"]\n",
        "sequences = tokenizer.texts_to_sequences(new_sentences)\n",
        "padded = pad_sequences(sequences, maxlen=max_length, padding=padding_type, truncating=trunc_type)\n",
        "print(model.predict(padded))"
      ],
      "metadata": {
        "colab": {
          "base_uri": "https://localhost:8080/",
          "height": 69
        },
        "id": "D1StmbqHVEER",
        "outputId": "478a8097-468c-4783-dac8-eaea7b4a2bc7"
      },
      "execution_count": null,
      "outputs": [
        {
          "output_type": "display_data",
          "data": {
            "text/plain": [
              "<IPython.core.display.HTML object>"
            ],
            "text/html": [
              "\n",
              "  <style>\n",
              "    pre {\n",
              "        white-space: pre-wrap;\n",
              "    }\n",
              "  </style>\n",
              "  "
            ]
          },
          "metadata": {}
        },
        {
          "output_type": "stream",
          "name": "stdout",
          "text": [
            "\u001b[1m1/1\u001b[0m \u001b[32m━━━━━━━━━━━━━━━━━━━━\u001b[0m\u001b[37m\u001b[0m \u001b[1m0s\u001b[0m 66ms/step\n",
            "[[0.45973635]\n",
            " [0.15309918]]\n"
          ]
        }
      ]
    },
    {
      "cell_type": "markdown",
      "source": [
        "The predictions for sample sentences, with confidence values closer to 0 or 1, suggest the model’s judgment on sentiment. A prediction closer to 0 (like 0.04) indicates a high confidence in the “caution” category, while a prediction closer to 1 would signify “optimism.” These scores provide insights into how the model interprets financial sentiment, potentially aiding in market trend analysis.\n",
        "\n",
        "While the model captures basic sentiment, it may struggle with nuanced phrases where financial sentiment isn’t explicit or relies on specific industry knowledge. Further model improvements could include context-aware architectures such as transformers to better handle complex language structures.\n",
        "\n"
      ],
      "metadata": {
        "id": "RG9WRclCYuYk"
      }
    },
    {
      "cell_type": "markdown",
      "source": [
        "# 3. Generating text using RNNs (LSTMs)\n",
        "\n",
        "In this section we shall attempt to build an LSTM model to generate realistic financial text based on Indian financial news headlines and descriptions. Using LSTMs is beneficial here because they can capture sequential patterns in the language, making the generated text sound coherent and contextually appropriate.\n",
        "\n",
        "Before heading on to the same, we shall briefy try to understand the workings of RNNs or Recurrent Neural Networks and thereafter LSTMs or Long Short-Term Memory. Unlike regular neural networks used in classification and regression tasks, RNNs are designed to handle **sequential data**. In typical networks, data and labels are mapped directly without considering order, while **RNNs apply a sequence-based structure to input data, making previous outputs a crucial part of future computations**. Mathematically, RNNs operate by representing the data in a sequence, where the function\n",
        "$f(data, labels) = rules$\n",
        "\n",
        "inherently lacks sequence without modification.RNNs adapt by applying each data point iteratively, with each result influencing subsequent steps.\n",
        "\n",
        "Data flow in an RNN can be explained as each computation in an RNN involving feeding the output from one neuron into the next neuron, retaining sequence memory. Mathematically:\n",
        "Input $x_0$ yields output $y_0$ and a feed-forward value, passed along to be combined with $x_1$, generating $y_1$, and so on.\n",
        "\n",
        "Standard RNNs face diminishing influence over long sequences; mathematically, distant inputs exert increasingly minimal impact as steps progress. This limitation becomes pronounced in tasks needing longer context memory, which motivates the shift to Long Short-Term Memory (LSTM) networks.\n",
        "\n",
        "The core of LSTMs lies in the cell state and gates. There are 3 types of gates to control flow of information:\n",
        "\n",
        "* Forget Gate: Decides what part of the previous information to forget.\n",
        "* Input Gate: Determines which new information to store.\n",
        "* Output Gate: Controls which information is passed to the next state.\n",
        "\n",
        "By controlling what to retain and what to discard, LSTMs effectively manage context. In NLP tasks, this is crucial, as early words in a sentence can affect the meaning of words that come much later.\n",
        "\n",
        "For certain tasks, understanding the context both before and after a word can enhance prediction accuracy. **Bi-directional LSTMs** address this by processing the sentence in both directions, capturing a richer context. For example, when interpreting sentiment, words following \"not\" are as important as those before it.\n",
        "\n",
        "With the theory covered, we can start with the practical application.\n"
      ],
      "metadata": {
        "id": "IBlqpNYHbUWN"
      }
    },
    {
      "cell_type": "markdown",
      "source": [
        "####**3.1 Data Preparation**\n",
        "\n",
        "We will load the financial news dataset (obtained from [Kaggle](https://www.kaggle.com/datasets/hkapoor/indian-financial-news-articles-20032020)) focusing on the Title and Description columns to create a corpus of financial text. Thereafter we shall proceed to pre-process the text by means of tokenization, filtering punctuations etc. and clean the text to ensure uniformity."
      ],
      "metadata": {
        "id": "sxqmlPw6GpkO"
      }
    },
    {
      "cell_type": "code",
      "source": [
        "import pandas as pd\n",
        "import tensorflow as tf\n",
        "import numpy as np\n",
        "\n",
        "from tensorflow.keras.preprocessing.text import Tokenizer\n",
        "from tensorflow.keras.preprocessing.sequence import pad_sequences"
      ],
      "metadata": {
        "colab": {
          "base_uri": "https://localhost:8080/",
          "height": 17
        },
        "id": "6sliWvcBIbrR",
        "outputId": "7630366b-709b-48c9-cc62-11b07f5a3efc"
      },
      "execution_count": null,
      "outputs": [
        {
          "output_type": "display_data",
          "data": {
            "text/plain": [
              "<IPython.core.display.HTML object>"
            ],
            "text/html": [
              "\n",
              "  <style>\n",
              "    pre {\n",
              "        white-space: pre-wrap;\n",
              "    }\n",
              "  </style>\n",
              "  "
            ]
          },
          "metadata": {}
        }
      ]
    },
    {
      "cell_type": "code",
      "source": [
        "# Loading and preprocessing the dataset\n",
        "file_path = 'IndianFinancialNews.csv'\n",
        "data = pd.read_csv(file_path, encoding='ISO-8859-1')\n",
        "\n",
        "# Combining title and description, converting to lowercase\n",
        "data['text'] = data['Title'].astype(str) + \" \" + data['Description'].astype(str)\n",
        "corpus = data['text'].str.lower().tolist()\n",
        "\n",
        "# Tokenizing\n",
        "vocab_size = 5000  # set depending on available memory\n",
        "tokenizer = Tokenizer(num_words=vocab_size, oov_token=\"<OOV>\")\n",
        "tokenizer.fit_on_texts(corpus)\n",
        "\n",
        "tokenizer.fit_on_texts(corpus)\n",
        "total_words = len(tokenizer.word_index) + 1\n",
        "\n",
        "# Text to sequences\n",
        "input_sequences = []\n",
        "for line in corpus:\n",
        "    token_list = tokenizer.texts_to_sequences([line])[0]\n",
        "    for i in range(1, len(token_list)):\n",
        "        n_gram_sequence = token_list[:i+1]\n",
        "        input_sequences.append(n_gram_sequence)\n",
        "\n",
        "# # Padding for uniform length\n",
        "# max_sequence_len = max([len(x) for x in input_sequences])\n",
        "# input_sequences = pad_sequences(input_sequences, maxlen=max_sequence_len, padding='pre')\n",
        "\n",
        "# Create shorter sequences for input-output pairs\n",
        "max_sequence_len = 30\n",
        "input_sequences = pad_sequences(input_sequences, maxlen=max_sequence_len, padding='pre')\n",
        "\n",
        "\n",
        "sample_size = 20000\n",
        "indices = np.random.choice(len(input_sequences), sample_size, replace=False)\n",
        "input_sequences = input_sequences[indices]\n",
        "\n",
        "# Creating predictors and labels\n",
        "xs, labels = input_sequences[:,:-1], input_sequences[:,-1]\n",
        "ys = labels\n"
      ],
      "metadata": {
        "colab": {
          "base_uri": "https://localhost:8080/",
          "height": 17
        },
        "id": "tkfI3ruUdG-5",
        "outputId": "9e49743d-575b-456d-ab90-437df21722eb"
      },
      "execution_count": null,
      "outputs": [
        {
          "output_type": "display_data",
          "data": {
            "text/plain": [
              "<IPython.core.display.HTML object>"
            ],
            "text/html": [
              "\n",
              "  <style>\n",
              "    pre {\n",
              "        white-space: pre-wrap;\n",
              "    }\n",
              "  </style>\n",
              "  "
            ]
          },
          "metadata": {}
        }
      ]
    },
    {
      "cell_type": "code",
      "source": [
        "from sklearn.model_selection import train_test_split\n",
        "\n",
        "# Split into training and validation sets\n",
        "xs_train, xs_val, ys_train, ys_val = train_test_split(xs, ys, test_size=0.2, random_state=42)\n",
        "\n",
        "# Create tf.data.Dataset objects\n",
        "train_dataset = tf.data.Dataset.from_tensor_slices((xs_train, ys_train)).batch(64).prefetch(tf.data.AUTOTUNE)\n",
        "val_dataset = tf.data.Dataset.from_tensor_slices((xs_val, ys_val)).batch(64).prefetch(tf.data.AUTOTUNE)\n"
      ],
      "metadata": {
        "colab": {
          "base_uri": "https://localhost:8080/",
          "height": 17
        },
        "id": "KpY0Mla9UlTW",
        "outputId": "d83cf66e-bf33-4b92-c7f0-8281f44f271c"
      },
      "execution_count": null,
      "outputs": [
        {
          "output_type": "display_data",
          "data": {
            "text/plain": [
              "<IPython.core.display.HTML object>"
            ],
            "text/html": [
              "\n",
              "  <style>\n",
              "    pre {\n",
              "        white-space: pre-wrap;\n",
              "    }\n",
              "  </style>\n",
              "  "
            ]
          },
          "metadata": {}
        }
      ]
    },
    {
      "cell_type": "markdown",
      "source": [
        "####**3.2 Building and Training the LSTM Model**\n",
        "\n",
        "We make the following considerations when setting up the LSTM Model:\n",
        "\n",
        "* **Embedding Layer:** Converts each word into a dense vector of fixed size, capturing semantic relationships between words.\n",
        "* **Bidirectional LSTM Layer:** Allows the model to learn from both past and future contexts, enhancing its understanding of financial language patterns.\n",
        "* **Dense Output Layer:** Outputs a probability distribution over the vocabulary, allowing the model to predict the next word."
      ],
      "metadata": {
        "id": "aU_hBcdCJFaB"
      }
    },
    {
      "cell_type": "code",
      "source": [
        "from tensorflow.keras.models import Sequential\n",
        "from tensorflow.keras.layers import Embedding, LSTM, Dense, Bidirectional\n",
        "from tensorflow.keras.optimizers import Adam"
      ],
      "metadata": {
        "colab": {
          "base_uri": "https://localhost:8080/",
          "height": 17
        },
        "id": "v3sl9mbyNvGA",
        "outputId": "d19ce226-99c6-4152-fe30-337970495e6a"
      },
      "execution_count": null,
      "outputs": [
        {
          "output_type": "display_data",
          "data": {
            "text/plain": [
              "<IPython.core.display.HTML object>"
            ],
            "text/html": [
              "\n",
              "  <style>\n",
              "    pre {\n",
              "        white-space: pre-wrap;\n",
              "    }\n",
              "  </style>\n",
              "  "
            ]
          },
          "metadata": {}
        }
      ]
    },
    {
      "cell_type": "code",
      "source": [
        "# Building the model\n",
        "# Model with reduced embedding dimensions\n",
        "embedding_dim = 64\n",
        "model = Sequential()\n",
        "model.add(Embedding(vocab_size, embedding_dim))\n",
        "model.add(Bidirectional(LSTM(150)))\n",
        "model.add(Dense(total_words, activation='softmax'))\n",
        "model.compile(loss='sparse_categorical_crossentropy', optimizer=Adam(learning_rate=0.001), metrics=['accuracy'])\n",
        "\n",
        "model.summary()\n"
      ],
      "metadata": {
        "colab": {
          "base_uri": "https://localhost:8080/",
          "height": 225
        },
        "id": "ioylFkgDJL3Y",
        "outputId": "6318c9b6-09be-490c-c694-5339d8019c4a"
      },
      "execution_count": null,
      "outputs": [
        {
          "output_type": "display_data",
          "data": {
            "text/plain": [
              "<IPython.core.display.HTML object>"
            ],
            "text/html": [
              "\n",
              "  <style>\n",
              "    pre {\n",
              "        white-space: pre-wrap;\n",
              "    }\n",
              "  </style>\n",
              "  "
            ]
          },
          "metadata": {}
        },
        {
          "output_type": "display_data",
          "data": {
            "text/plain": [
              "\u001b[1mModel: \"sequential_3\"\u001b[0m\n"
            ],
            "text/html": [
              "<pre style=\"white-space:pre;overflow-x:auto;line-height:normal;font-family:Menlo,'DejaVu Sans Mono',consolas,'Courier New',monospace\"><span style=\"font-weight: bold\">Model: \"sequential_3\"</span>\n",
              "</pre>\n"
            ]
          },
          "metadata": {}
        },
        {
          "output_type": "display_data",
          "data": {
            "text/plain": [
              "┏━━━━━━━━━━━━━━━━━━━━━━━━━━━━━━━━━━━━━━┳━━━━━━━━━━━━━━━━━━━━━━━━━━━━━┳━━━━━━━━━━━━━━━━━┓\n",
              "┃\u001b[1m \u001b[0m\u001b[1mLayer (type)                        \u001b[0m\u001b[1m \u001b[0m┃\u001b[1m \u001b[0m\u001b[1mOutput Shape               \u001b[0m\u001b[1m \u001b[0m┃\u001b[1m \u001b[0m\u001b[1m        Param #\u001b[0m\u001b[1m \u001b[0m┃\n",
              "┡━━━━━━━━━━━━━━━━━━━━━━━━━━━━━━━━━━━━━━╇━━━━━━━━━━━━━━━━━━━━━━━━━━━━━╇━━━━━━━━━━━━━━━━━┩\n",
              "│ embedding_3 (\u001b[38;5;33mEmbedding\u001b[0m)              │ ?                           │     \u001b[38;5;34m0\u001b[0m (unbuilt) │\n",
              "├──────────────────────────────────────┼─────────────────────────────┼─────────────────┤\n",
              "│ bidirectional_2 (\u001b[38;5;33mBidirectional\u001b[0m)      │ ?                           │     \u001b[38;5;34m0\u001b[0m (unbuilt) │\n",
              "├──────────────────────────────────────┼─────────────────────────────┼─────────────────┤\n",
              "│ dense_4 (\u001b[38;5;33mDense\u001b[0m)                      │ ?                           │     \u001b[38;5;34m0\u001b[0m (unbuilt) │\n",
              "└──────────────────────────────────────┴─────────────────────────────┴─────────────────┘\n"
            ],
            "text/html": [
              "<pre style=\"white-space:pre;overflow-x:auto;line-height:normal;font-family:Menlo,'DejaVu Sans Mono',consolas,'Courier New',monospace\">┏━━━━━━━━━━━━━━━━━━━━━━━━━━━━━━━━━━━━━━┳━━━━━━━━━━━━━━━━━━━━━━━━━━━━━┳━━━━━━━━━━━━━━━━━┓\n",
              "┃<span style=\"font-weight: bold\"> Layer (type)                         </span>┃<span style=\"font-weight: bold\"> Output Shape                </span>┃<span style=\"font-weight: bold\">         Param # </span>┃\n",
              "┡━━━━━━━━━━━━━━━━━━━━━━━━━━━━━━━━━━━━━━╇━━━━━━━━━━━━━━━━━━━━━━━━━━━━━╇━━━━━━━━━━━━━━━━━┩\n",
              "│ embedding_3 (<span style=\"color: #0087ff; text-decoration-color: #0087ff\">Embedding</span>)              │ ?                           │     <span style=\"color: #00af00; text-decoration-color: #00af00\">0</span> (unbuilt) │\n",
              "├──────────────────────────────────────┼─────────────────────────────┼─────────────────┤\n",
              "│ bidirectional_2 (<span style=\"color: #0087ff; text-decoration-color: #0087ff\">Bidirectional</span>)      │ ?                           │     <span style=\"color: #00af00; text-decoration-color: #00af00\">0</span> (unbuilt) │\n",
              "├──────────────────────────────────────┼─────────────────────────────┼─────────────────┤\n",
              "│ dense_4 (<span style=\"color: #0087ff; text-decoration-color: #0087ff\">Dense</span>)                      │ ?                           │     <span style=\"color: #00af00; text-decoration-color: #00af00\">0</span> (unbuilt) │\n",
              "└──────────────────────────────────────┴─────────────────────────────┴─────────────────┘\n",
              "</pre>\n"
            ]
          },
          "metadata": {}
        },
        {
          "output_type": "display_data",
          "data": {
            "text/plain": [
              "\u001b[1m Total params: \u001b[0m\u001b[38;5;34m0\u001b[0m (0.00 B)\n"
            ],
            "text/html": [
              "<pre style=\"white-space:pre;overflow-x:auto;line-height:normal;font-family:Menlo,'DejaVu Sans Mono',consolas,'Courier New',monospace\"><span style=\"font-weight: bold\"> Total params: </span><span style=\"color: #00af00; text-decoration-color: #00af00\">0</span> (0.00 B)\n",
              "</pre>\n"
            ]
          },
          "metadata": {}
        },
        {
          "output_type": "display_data",
          "data": {
            "text/plain": [
              "\u001b[1m Trainable params: \u001b[0m\u001b[38;5;34m0\u001b[0m (0.00 B)\n"
            ],
            "text/html": [
              "<pre style=\"white-space:pre;overflow-x:auto;line-height:normal;font-family:Menlo,'DejaVu Sans Mono',consolas,'Courier New',monospace\"><span style=\"font-weight: bold\"> Trainable params: </span><span style=\"color: #00af00; text-decoration-color: #00af00\">0</span> (0.00 B)\n",
              "</pre>\n"
            ]
          },
          "metadata": {}
        },
        {
          "output_type": "display_data",
          "data": {
            "text/plain": [
              "\u001b[1m Non-trainable params: \u001b[0m\u001b[38;5;34m0\u001b[0m (0.00 B)\n"
            ],
            "text/html": [
              "<pre style=\"white-space:pre;overflow-x:auto;line-height:normal;font-family:Menlo,'DejaVu Sans Mono',consolas,'Courier New',monospace\"><span style=\"font-weight: bold\"> Non-trainable params: </span><span style=\"color: #00af00; text-decoration-color: #00af00\">0</span> (0.00 B)\n",
              "</pre>\n"
            ]
          },
          "metadata": {}
        }
      ]
    },
    {
      "cell_type": "code",
      "source": [
        "# Create a tf.data dataset\n",
        "dataset = tf.data.Dataset.from_tensor_slices((xs, ys)).batch(64).prefetch(tf.data.AUTOTUNE)\n"
      ],
      "metadata": {
        "colab": {
          "base_uri": "https://localhost:8080/",
          "height": 17
        },
        "id": "oDYQqel5Pza3",
        "outputId": "1219f7f9-e5f6-4a8c-ac62-99ddc4d656f1"
      },
      "execution_count": null,
      "outputs": [
        {
          "output_type": "display_data",
          "data": {
            "text/plain": [
              "<IPython.core.display.HTML object>"
            ],
            "text/html": [
              "\n",
              "  <style>\n",
              "    pre {\n",
              "        white-space: pre-wrap;\n",
              "    }\n",
              "  </style>\n",
              "  "
            ]
          },
          "metadata": {}
        }
      ]
    },
    {
      "cell_type": "code",
      "source": [
        "from tensorflow.keras.callbacks import EarlyStopping\n",
        "\n",
        "# Early stopping to prevent overfitting\n",
        "early_stop = EarlyStopping(monitor='val_loss', patience=5, restore_best_weights=True)\n",
        "\n",
        "# Training the model with early stopping\n",
        "history = model.fit(\n",
        "    train_dataset,\n",
        "    validation_data=val_dataset,   # Use separate validation dataset\n",
        "    epochs=50,                     # Starting with 30 epochs\n",
        "    # callbacks=[early_stop],        # Add early stopping callback\n",
        "    verbose=1\n",
        ")\n"
      ],
      "metadata": {
        "colab": {
          "base_uri": "https://localhost:8080/",
          "height": 1000
        },
        "id": "eVpSwT84OLG3",
        "outputId": "f61d84bb-6977-4b30-c333-69e2565bbb23"
      },
      "execution_count": null,
      "outputs": [
        {
          "output_type": "display_data",
          "data": {
            "text/plain": [
              "<IPython.core.display.HTML object>"
            ],
            "text/html": [
              "\n",
              "  <style>\n",
              "    pre {\n",
              "        white-space: pre-wrap;\n",
              "    }\n",
              "  </style>\n",
              "  "
            ]
          },
          "metadata": {}
        },
        {
          "output_type": "stream",
          "name": "stdout",
          "text": [
            "Epoch 1/50\n",
            "\u001b[1m250/250\u001b[0m \u001b[32m━━━━━━━━━━━━━━━━━━━━\u001b[0m\u001b[37m\u001b[0m \u001b[1m116s\u001b[0m 447ms/step - accuracy: 0.0513 - loss: 7.9419 - val_accuracy: 0.0510 - val_loss: 6.8372\n",
            "Epoch 2/50\n",
            "\u001b[1m250/250\u001b[0m \u001b[32m━━━━━━━━━━━━━━━━━━━━\u001b[0m\u001b[37m\u001b[0m \u001b[1m136s\u001b[0m 422ms/step - accuracy: 0.0570 - loss: 6.3410 - val_accuracy: 0.0622 - val_loss: 6.7879\n",
            "Epoch 3/50\n",
            "\u001b[1m250/250\u001b[0m \u001b[32m━━━━━━━━━━━━━━━━━━━━\u001b[0m\u001b[37m\u001b[0m \u001b[1m112s\u001b[0m 447ms/step - accuracy: 0.0714 - loss: 6.1860 - val_accuracy: 0.0817 - val_loss: 6.7881\n",
            "Epoch 4/50\n",
            "\u001b[1m250/250\u001b[0m \u001b[32m━━━━━━━━━━━━━━━━━━━━\u001b[0m\u001b[37m\u001b[0m \u001b[1m105s\u001b[0m 419ms/step - accuracy: 0.0832 - loss: 6.0257 - val_accuracy: 0.0880 - val_loss: 6.8257\n",
            "Epoch 5/50\n",
            "\u001b[1m250/250\u001b[0m \u001b[32m━━━━━━━━━━━━━━━━━━━━\u001b[0m\u001b[37m\u001b[0m \u001b[1m105s\u001b[0m 422ms/step - accuracy: 0.0922 - loss: 5.8768 - val_accuracy: 0.0940 - val_loss: 6.8224\n",
            "Epoch 6/50\n",
            "\u001b[1m250/250\u001b[0m \u001b[32m━━━━━━━━━━━━━━━━━━━━\u001b[0m\u001b[37m\u001b[0m \u001b[1m142s\u001b[0m 422ms/step - accuracy: 0.1071 - loss: 5.6981 - val_accuracy: 0.0975 - val_loss: 6.8456\n",
            "Epoch 7/50\n",
            "\u001b[1m250/250\u001b[0m \u001b[32m━━━━━━━━━━━━━━━━━━━━\u001b[0m\u001b[37m\u001b[0m \u001b[1m143s\u001b[0m 425ms/step - accuracy: 0.1189 - loss: 5.4926 - val_accuracy: 0.1047 - val_loss: 6.8258\n",
            "Epoch 8/50\n",
            "\u001b[1m250/250\u001b[0m \u001b[32m━━━━━━━━━━━━━━━━━━━━\u001b[0m\u001b[37m\u001b[0m \u001b[1m110s\u001b[0m 441ms/step - accuracy: 0.1296 - loss: 5.2994 - val_accuracy: 0.1115 - val_loss: 6.7940\n",
            "Epoch 9/50\n",
            "\u001b[1m250/250\u001b[0m \u001b[32m━━━━━━━━━━━━━━━━━━━━\u001b[0m\u001b[37m\u001b[0m \u001b[1m140s\u001b[0m 433ms/step - accuracy: 0.1442 - loss: 5.1215 - val_accuracy: 0.1157 - val_loss: 6.8282\n",
            "Epoch 10/50\n",
            "\u001b[1m250/250\u001b[0m \u001b[32m━━━━━━━━━━━━━━━━━━━━\u001b[0m\u001b[37m\u001b[0m \u001b[1m145s\u001b[0m 444ms/step - accuracy: 0.1540 - loss: 4.9626 - val_accuracy: 0.1230 - val_loss: 6.8362\n",
            "Epoch 11/50\n",
            "\u001b[1m250/250\u001b[0m \u001b[32m━━━━━━━━━━━━━━━━━━━━\u001b[0m\u001b[37m\u001b[0m \u001b[1m141s\u001b[0m 439ms/step - accuracy: 0.1679 - loss: 4.8080 - val_accuracy: 0.1215 - val_loss: 6.8480\n",
            "Epoch 12/50\n",
            "\u001b[1m250/250\u001b[0m \u001b[32m━━━━━━━━━━━━━━━━━━━━\u001b[0m\u001b[37m\u001b[0m \u001b[1m106s\u001b[0m 423ms/step - accuracy: 0.1756 - loss: 4.6551 - val_accuracy: 0.1233 - val_loss: 6.8944\n",
            "Epoch 13/50\n",
            "\u001b[1m250/250\u001b[0m \u001b[32m━━━━━━━━━━━━━━━━━━━━\u001b[0m\u001b[37m\u001b[0m \u001b[1m143s\u001b[0m 426ms/step - accuracy: 0.1816 - loss: 4.5088 - val_accuracy: 0.1277 - val_loss: 6.9563\n",
            "Epoch 14/50\n",
            "\u001b[1m250/250\u001b[0m \u001b[32m━━━━━━━━━━━━━━━━━━━━\u001b[0m\u001b[37m\u001b[0m \u001b[1m106s\u001b[0m 423ms/step - accuracy: 0.1887 - loss: 4.3873 - val_accuracy: 0.1285 - val_loss: 6.9679\n",
            "Epoch 15/50\n",
            "\u001b[1m250/250\u001b[0m \u001b[32m━━━━━━━━━━━━━━━━━━━━\u001b[0m\u001b[37m\u001b[0m \u001b[1m107s\u001b[0m 429ms/step - accuracy: 0.2026 - loss: 4.2208 - val_accuracy: 0.1252 - val_loss: 7.0402\n",
            "Epoch 16/50\n",
            "\u001b[1m250/250\u001b[0m \u001b[32m━━━━━━━━━━━━━━━━━━━━\u001b[0m\u001b[37m\u001b[0m \u001b[1m106s\u001b[0m 424ms/step - accuracy: 0.2123 - loss: 4.0954 - val_accuracy: 0.1295 - val_loss: 7.0652\n",
            "Epoch 17/50\n",
            "\u001b[1m250/250\u001b[0m \u001b[32m━━━━━━━━━━━━━━━━━━━━\u001b[0m\u001b[37m\u001b[0m \u001b[1m112s\u001b[0m 448ms/step - accuracy: 0.2193 - loss: 3.9916 - val_accuracy: 0.1295 - val_loss: 7.1338\n",
            "Epoch 18/50\n",
            "\u001b[1m250/250\u001b[0m \u001b[32m━━━━━━━━━━━━━━━━━━━━\u001b[0m\u001b[37m\u001b[0m \u001b[1m106s\u001b[0m 425ms/step - accuracy: 0.2344 - loss: 3.8530 - val_accuracy: 0.1350 - val_loss: 7.1706\n",
            "Epoch 19/50\n",
            "\u001b[1m250/250\u001b[0m \u001b[32m━━━━━━━━━━━━━━━━━━━━\u001b[0m\u001b[37m\u001b[0m \u001b[1m112s\u001b[0m 447ms/step - accuracy: 0.2491 - loss: 3.7233 - val_accuracy: 0.1328 - val_loss: 7.1853\n",
            "Epoch 20/50\n",
            "\u001b[1m250/250\u001b[0m \u001b[32m━━━━━━━━━━━━━━━━━━━━\u001b[0m\u001b[37m\u001b[0m \u001b[1m114s\u001b[0m 455ms/step - accuracy: 0.2613 - loss: 3.6056 - val_accuracy: 0.1330 - val_loss: 7.2626\n",
            "Epoch 21/50\n",
            "\u001b[1m250/250\u001b[0m \u001b[32m━━━━━━━━━━━━━━━━━━━━\u001b[0m\u001b[37m\u001b[0m \u001b[1m135s\u001b[0m 429ms/step - accuracy: 0.2826 - loss: 3.4925 - val_accuracy: 0.1357 - val_loss: 7.3236\n",
            "Epoch 22/50\n",
            "\u001b[1m250/250\u001b[0m \u001b[32m━━━━━━━━━━━━━━━━━━━━\u001b[0m\u001b[37m\u001b[0m \u001b[1m112s\u001b[0m 447ms/step - accuracy: 0.3007 - loss: 3.3672 - val_accuracy: 0.1325 - val_loss: 7.3870\n",
            "Epoch 23/50\n",
            "\u001b[1m250/250\u001b[0m \u001b[32m━━━━━━━━━━━━━━━━━━━━\u001b[0m\u001b[37m\u001b[0m \u001b[1m106s\u001b[0m 426ms/step - accuracy: 0.3263 - loss: 3.2331 - val_accuracy: 0.1347 - val_loss: 7.4350\n",
            "Epoch 24/50\n",
            "\u001b[1m250/250\u001b[0m \u001b[32m━━━━━━━━━━━━━━━━━━━━\u001b[0m\u001b[37m\u001b[0m \u001b[1m109s\u001b[0m 436ms/step - accuracy: 0.3524 - loss: 3.1026 - val_accuracy: 0.1353 - val_loss: 7.5220\n",
            "Epoch 25/50\n",
            "\u001b[1m250/250\u001b[0m \u001b[32m━━━━━━━━━━━━━━━━━━━━\u001b[0m\u001b[37m\u001b[0m \u001b[1m112s\u001b[0m 449ms/step - accuracy: 0.3759 - loss: 2.9771 - val_accuracy: 0.1347 - val_loss: 7.5876\n",
            "Epoch 26/50\n",
            "\u001b[1m250/250\u001b[0m \u001b[32m━━━━━━━━━━━━━━━━━━━━\u001b[0m\u001b[37m\u001b[0m \u001b[1m142s\u001b[0m 450ms/step - accuracy: 0.3993 - loss: 2.8583 - val_accuracy: 0.1322 - val_loss: 7.6691\n",
            "Epoch 27/50\n",
            "\u001b[1m250/250\u001b[0m \u001b[32m━━━━━━━━━━━━━━━━━━━━\u001b[0m\u001b[37m\u001b[0m \u001b[1m135s\u001b[0m 423ms/step - accuracy: 0.4251 - loss: 2.7339 - val_accuracy: 0.1297 - val_loss: 7.7542\n",
            "Epoch 28/50\n",
            "\u001b[1m250/250\u001b[0m \u001b[32m━━━━━━━━━━━━━━━━━━━━\u001b[0m\u001b[37m\u001b[0m \u001b[1m110s\u001b[0m 442ms/step - accuracy: 0.4483 - loss: 2.6048 - val_accuracy: 0.1318 - val_loss: 7.8354\n",
            "Epoch 29/50\n",
            "\u001b[1m250/250\u001b[0m \u001b[32m━━━━━━━━━━━━━━━━━━━━\u001b[0m\u001b[37m\u001b[0m \u001b[1m137s\u001b[0m 422ms/step - accuracy: 0.4706 - loss: 2.4967 - val_accuracy: 0.1305 - val_loss: 7.9469\n",
            "Epoch 30/50\n",
            "\u001b[1m250/250\u001b[0m \u001b[32m━━━━━━━━━━━━━━━━━━━━\u001b[0m\u001b[37m\u001b[0m \u001b[1m113s\u001b[0m 453ms/step - accuracy: 0.4907 - loss: 2.3869 - val_accuracy: 0.1283 - val_loss: 8.0368\n",
            "Epoch 31/50\n",
            "\u001b[1m250/250\u001b[0m \u001b[32m━━━━━━━━━━━━━━━━━━━━\u001b[0m\u001b[37m\u001b[0m \u001b[1m107s\u001b[0m 427ms/step - accuracy: 0.5098 - loss: 2.2937 - val_accuracy: 0.1270 - val_loss: 8.1133\n",
            "Epoch 32/50\n",
            "\u001b[1m250/250\u001b[0m \u001b[32m━━━━━━━━━━━━━━━━━━━━\u001b[0m\u001b[37m\u001b[0m \u001b[1m114s\u001b[0m 455ms/step - accuracy: 0.5306 - loss: 2.2025 - val_accuracy: 0.1230 - val_loss: 8.2149\n",
            "Epoch 33/50\n",
            "\u001b[1m250/250\u001b[0m \u001b[32m━━━━━━━━━━━━━━━━━━━━\u001b[0m\u001b[37m\u001b[0m \u001b[1m139s\u001b[0m 442ms/step - accuracy: 0.5515 - loss: 2.1027 - val_accuracy: 0.1220 - val_loss: 8.3358\n",
            "Epoch 34/50\n",
            "\u001b[1m250/250\u001b[0m \u001b[32m━━━━━━━━━━━━━━━━━━━━\u001b[0m\u001b[37m\u001b[0m \u001b[1m139s\u001b[0m 431ms/step - accuracy: 0.5657 - loss: 2.0201 - val_accuracy: 0.1215 - val_loss: 8.4130\n",
            "Epoch 35/50\n",
            "\u001b[1m250/250\u001b[0m \u001b[32m━━━━━━━━━━━━━━━━━━━━\u001b[0m\u001b[37m\u001b[0m \u001b[1m108s\u001b[0m 431ms/step - accuracy: 0.5907 - loss: 1.9287 - val_accuracy: 0.1238 - val_loss: 8.5301\n",
            "Epoch 36/50\n",
            "\u001b[1m250/250\u001b[0m \u001b[32m━━━━━━━━━━━━━━━━━━━━\u001b[0m\u001b[37m\u001b[0m \u001b[1m112s\u001b[0m 446ms/step - accuracy: 0.5986 - loss: 1.8813 - val_accuracy: 0.1233 - val_loss: 8.6039\n",
            "Epoch 37/50\n",
            "\u001b[1m250/250\u001b[0m \u001b[32m━━━━━━━━━━━━━━━━━━━━\u001b[0m\u001b[37m\u001b[0m \u001b[1m143s\u001b[0m 451ms/step - accuracy: 0.6252 - loss: 1.7802 - val_accuracy: 0.1203 - val_loss: 8.6705\n",
            "Epoch 38/50\n",
            "\u001b[1m250/250\u001b[0m \u001b[32m━━━━━━━━━━━━━━━━━━━━\u001b[0m\u001b[37m\u001b[0m \u001b[1m112s\u001b[0m 447ms/step - accuracy: 0.6404 - loss: 1.7048 - val_accuracy: 0.1220 - val_loss: 8.7769\n",
            "Epoch 39/50\n",
            "\u001b[1m250/250\u001b[0m \u001b[32m━━━━━━━━━━━━━━━━━━━━\u001b[0m\u001b[37m\u001b[0m \u001b[1m140s\u001b[0m 437ms/step - accuracy: 0.6664 - loss: 1.5833 - val_accuracy: 0.1190 - val_loss: 8.8500\n",
            "Epoch 40/50\n",
            "\u001b[1m250/250\u001b[0m \u001b[32m━━━━━━━━━━━━━━━━━━━━\u001b[0m\u001b[37m\u001b[0m \u001b[1m144s\u001b[0m 446ms/step - accuracy: 0.6893 - loss: 1.4841 - val_accuracy: 0.1190 - val_loss: 8.9433\n",
            "Epoch 41/50\n",
            "\u001b[1m250/250\u001b[0m \u001b[32m━━━━━━━━━━━━━━━━━━━━\u001b[0m\u001b[37m\u001b[0m \u001b[1m108s\u001b[0m 431ms/step - accuracy: 0.7078 - loss: 1.4228 - val_accuracy: 0.1187 - val_loss: 9.0338\n",
            "Epoch 42/50\n",
            "\u001b[1m250/250\u001b[0m \u001b[32m━━━━━━━━━━━━━━━━━━━━\u001b[0m\u001b[37m\u001b[0m \u001b[1m146s\u001b[0m 448ms/step - accuracy: 0.7313 - loss: 1.3298 - val_accuracy: 0.1190 - val_loss: 9.1313\n",
            "Epoch 43/50\n",
            "\u001b[1m250/250\u001b[0m \u001b[32m━━━━━━━━━━━━━━━━━━━━\u001b[0m\u001b[37m\u001b[0m \u001b[1m107s\u001b[0m 429ms/step - accuracy: 0.7456 - loss: 1.2656 - val_accuracy: 0.1170 - val_loss: 9.2068\n",
            "Epoch 44/50\n",
            "\u001b[1m250/250\u001b[0m \u001b[32m━━━━━━━━━━━━━━━━━━━━\u001b[0m\u001b[37m\u001b[0m \u001b[1m108s\u001b[0m 434ms/step - accuracy: 0.7670 - loss: 1.1822 - val_accuracy: 0.1210 - val_loss: 9.2791\n",
            "Epoch 45/50\n",
            "\u001b[1m250/250\u001b[0m \u001b[32m━━━━━━━━━━━━━━━━━━━━\u001b[0m\u001b[37m\u001b[0m \u001b[1m140s\u001b[0m 426ms/step - accuracy: 0.7813 - loss: 1.1240 - val_accuracy: 0.1192 - val_loss: 9.3756\n",
            "Epoch 46/50\n",
            "\u001b[1m250/250\u001b[0m \u001b[32m━━━━━━━━━━━━━━━━━━━━\u001b[0m\u001b[37m\u001b[0m \u001b[1m114s\u001b[0m 455ms/step - accuracy: 0.7886 - loss: 1.0830 - val_accuracy: 0.1123 - val_loss: 9.4508\n",
            "Epoch 47/50\n",
            "\u001b[1m250/250\u001b[0m \u001b[32m━━━━━━━━━━━━━━━━━━━━\u001b[0m\u001b[37m\u001b[0m \u001b[1m106s\u001b[0m 425ms/step - accuracy: 0.8024 - loss: 1.0193 - val_accuracy: 0.1160 - val_loss: 9.5179\n",
            "Epoch 48/50\n",
            "\u001b[1m250/250\u001b[0m \u001b[32m━━━━━━━━━━━━━━━━━━━━\u001b[0m\u001b[37m\u001b[0m \u001b[1m116s\u001b[0m 464ms/step - accuracy: 0.8174 - loss: 0.9624 - val_accuracy: 0.1140 - val_loss: 9.5923\n",
            "Epoch 49/50\n",
            "\u001b[1m250/250\u001b[0m \u001b[32m━━━━━━━━━━━━━━━━━━━━\u001b[0m\u001b[37m\u001b[0m \u001b[1m135s\u001b[0m 435ms/step - accuracy: 0.8302 - loss: 0.9045 - val_accuracy: 0.1175 - val_loss: 9.6902\n",
            "Epoch 50/50\n",
            "\u001b[1m250/250\u001b[0m \u001b[32m━━━━━━━━━━━━━━━━━━━━\u001b[0m\u001b[37m\u001b[0m \u001b[1m114s\u001b[0m 457ms/step - accuracy: 0.8483 - loss: 0.8285 - val_accuracy: 0.1163 - val_loss: 9.7675\n"
          ]
        }
      ]
    },
    {
      "cell_type": "markdown",
      "source": [
        "####**3.3 Generating Financial Text**\n",
        "\n",
        "With the trained model, we can now generate new financial commentary by providing a **seed text**. This generated text can simulate potential financial narratives, useful for analysis or exploration in financial contexts.\n"
      ],
      "metadata": {
        "id": "el6dXRWtN7qE"
      }
    },
    {
      "cell_type": "code",
      "source": [
        "import numpy as np\n",
        "\n",
        "def generate_text(seed_text, next_words=50):\n",
        "    for _ in range(next_words):\n",
        "        token_list = tokenizer.texts_to_sequences([seed_text])[0]\n",
        "        token_list = pad_sequences([token_list], maxlen=max_sequence_len-1, padding='pre')\n",
        "        predicted = np.argmax(model.predict(token_list), axis=-1)\n",
        "\n",
        "        output_word = \"\"\n",
        "        for word, index in tokenizer.word_index.items():\n",
        "            if index == predicted:\n",
        "                output_word = word\n",
        "                break\n",
        "        seed_text += \" \" + output_word\n",
        "    return seed_text\n",
        "\n",
        "# Example usage\n",
        "seed_text = \"The stock market is\"\n",
        "print(generate_text(seed_text, next_words=20))\n"
      ],
      "metadata": {
        "colab": {
          "base_uri": "https://localhost:8080/",
          "height": 381
        },
        "id": "2vdlEQTLOiJb",
        "outputId": "69484fe8-e80e-41d1-c411-846d6fb87584"
      },
      "execution_count": null,
      "outputs": [
        {
          "output_type": "display_data",
          "data": {
            "text/plain": [
              "<IPython.core.display.HTML object>"
            ],
            "text/html": [
              "\n",
              "  <style>\n",
              "    pre {\n",
              "        white-space: pre-wrap;\n",
              "    }\n",
              "  </style>\n",
              "  "
            ]
          },
          "metadata": {}
        },
        {
          "output_type": "stream",
          "name": "stdout",
          "text": [
            "\u001b[1m1/1\u001b[0m \u001b[32m━━━━━━━━━━━━━━━━━━━━\u001b[0m\u001b[37m\u001b[0m \u001b[1m0s\u001b[0m 467ms/step\n",
            "\u001b[1m1/1\u001b[0m \u001b[32m━━━━━━━━━━━━━━━━━━━━\u001b[0m\u001b[37m\u001b[0m \u001b[1m0s\u001b[0m 37ms/step\n",
            "\u001b[1m1/1\u001b[0m \u001b[32m━━━━━━━━━━━━━━━━━━━━\u001b[0m\u001b[37m\u001b[0m \u001b[1m0s\u001b[0m 33ms/step\n",
            "\u001b[1m1/1\u001b[0m \u001b[32m━━━━━━━━━━━━━━━━━━━━\u001b[0m\u001b[37m\u001b[0m \u001b[1m0s\u001b[0m 45ms/step\n",
            "\u001b[1m1/1\u001b[0m \u001b[32m━━━━━━━━━━━━━━━━━━━━\u001b[0m\u001b[37m\u001b[0m \u001b[1m0s\u001b[0m 42ms/step\n",
            "\u001b[1m1/1\u001b[0m \u001b[32m━━━━━━━━━━━━━━━━━━━━\u001b[0m\u001b[37m\u001b[0m \u001b[1m0s\u001b[0m 34ms/step\n",
            "\u001b[1m1/1\u001b[0m \u001b[32m━━━━━━━━━━━━━━━━━━━━\u001b[0m\u001b[37m\u001b[0m \u001b[1m0s\u001b[0m 39ms/step\n",
            "\u001b[1m1/1\u001b[0m \u001b[32m━━━━━━━━━━━━━━━━━━━━\u001b[0m\u001b[37m\u001b[0m \u001b[1m0s\u001b[0m 39ms/step\n",
            "\u001b[1m1/1\u001b[0m \u001b[32m━━━━━━━━━━━━━━━━━━━━\u001b[0m\u001b[37m\u001b[0m \u001b[1m0s\u001b[0m 36ms/step\n",
            "\u001b[1m1/1\u001b[0m \u001b[32m━━━━━━━━━━━━━━━━━━━━\u001b[0m\u001b[37m\u001b[0m \u001b[1m0s\u001b[0m 36ms/step\n",
            "\u001b[1m1/1\u001b[0m \u001b[32m━━━━━━━━━━━━━━━━━━━━\u001b[0m\u001b[37m\u001b[0m \u001b[1m0s\u001b[0m 40ms/step\n",
            "\u001b[1m1/1\u001b[0m \u001b[32m━━━━━━━━━━━━━━━━━━━━\u001b[0m\u001b[37m\u001b[0m \u001b[1m0s\u001b[0m 38ms/step\n",
            "\u001b[1m1/1\u001b[0m \u001b[32m━━━━━━━━━━━━━━━━━━━━\u001b[0m\u001b[37m\u001b[0m \u001b[1m0s\u001b[0m 43ms/step\n",
            "\u001b[1m1/1\u001b[0m \u001b[32m━━━━━━━━━━━━━━━━━━━━\u001b[0m\u001b[37m\u001b[0m \u001b[1m0s\u001b[0m 55ms/step\n",
            "\u001b[1m1/1\u001b[0m \u001b[32m━━━━━━━━━━━━━━━━━━━━\u001b[0m\u001b[37m\u001b[0m \u001b[1m0s\u001b[0m 59ms/step\n",
            "\u001b[1m1/1\u001b[0m \u001b[32m━━━━━━━━━━━━━━━━━━━━\u001b[0m\u001b[37m\u001b[0m \u001b[1m0s\u001b[0m 52ms/step\n",
            "\u001b[1m1/1\u001b[0m \u001b[32m━━━━━━━━━━━━━━━━━━━━\u001b[0m\u001b[37m\u001b[0m \u001b[1m0s\u001b[0m 58ms/step\n",
            "\u001b[1m1/1\u001b[0m \u001b[32m━━━━━━━━━━━━━━━━━━━━\u001b[0m\u001b[37m\u001b[0m \u001b[1m0s\u001b[0m 55ms/step\n",
            "\u001b[1m1/1\u001b[0m \u001b[32m━━━━━━━━━━━━━━━━━━━━\u001b[0m\u001b[37m\u001b[0m \u001b[1m0s\u001b[0m 59ms/step\n",
            "\u001b[1m1/1\u001b[0m \u001b[32m━━━━━━━━━━━━━━━━━━━━\u001b[0m\u001b[37m\u001b[0m \u001b[1m0s\u001b[0m 59ms/step\n",
            "The stock market is moderate by more growth in the foreign fiscal today asked to be down for the capital from the property reaction\n"
          ]
        }
      ]
    },
    {
      "cell_type": "code",
      "source": [
        "import matplotlib.pyplot as plt\n",
        "\n",
        "# Plot Training and Validation Accuracy\n",
        "plt.figure(figsize=(12, 6))\n",
        "plt.plot(history.history['accuracy'], label='Training Accuracy')\n",
        "plt.plot(history.history['val_accuracy'], label='Validation Accuracy')\n",
        "plt.xlabel(\"Epochs\")\n",
        "plt.ylabel(\"Accuracy\")\n",
        "plt.title(\"Training and Validation Accuracy\")\n",
        "plt.legend()\n",
        "plt.show()\n",
        "\n",
        "# Plot Training and Validation Loss\n",
        "plt.figure(figsize=(12, 6))\n",
        "plt.plot(history.history['loss'], label='Training Loss')\n",
        "plt.plot(history.history['val_loss'], label='Validation Loss')\n",
        "plt.xlabel(\"Epochs\")\n",
        "plt.ylabel(\"Loss\")\n",
        "plt.title(\"Training and Validation Loss\")\n",
        "plt.legend()\n",
        "plt.show()\n"
      ],
      "metadata": {
        "colab": {
          "base_uri": "https://localhost:8080/",
          "height": 1000
        },
        "id": "jE0uhxTx0DhS",
        "outputId": "e781d138-f5d5-4c15-9574-1c1d30e92eb0"
      },
      "execution_count": null,
      "outputs": [
        {
          "output_type": "display_data",
          "data": {
            "text/plain": [
              "<IPython.core.display.HTML object>"
            ],
            "text/html": [
              "\n",
              "  <style>\n",
              "    pre {\n",
              "        white-space: pre-wrap;\n",
              "    }\n",
              "  </style>\n",
              "  "
            ]
          },
          "metadata": {}
        },
        {
          "output_type": "display_data",
          "data": {
            "text/plain": [
              "<Figure size 1200x600 with 1 Axes>"
            ],
            "image/png": "[encoded data removed]"
          },
          "metadata": {}
        },
        {
          "output_type": "display_data",
          "data": {
            "text/plain": [
              "<Figure size 1200x600 with 1 Axes>"
            ],
            "image/png": "[encoded data removed]"
          },
          "metadata": {}
        }
      ]
    },
    {
      "cell_type": "markdown",
      "source": [
        "The above results and plots allow us to draw the following conclusions:\n",
        "\n",
        "**Model Performance:**\n",
        "\n",
        "* **Training Accuracy:** The model reached a training accuracy of 84.8%, suggesting it learned patterns from the training data effectively.\n",
        "* **Validation Accuracy:** With validation accuracy around 11-13%, the model struggled to generalize, indicating overfitting. This suggests that while the model can memorize training sequences, it lacks the capacity to generate contextually meaningful financial phrases in new data.\n",
        "\n",
        "Moreover, the generated sentence \"The stock market is moderate by more growth in the foreign fiscal today asked to be down for the capital from the property reaction\" captures some structural coherence but lacks clear financial relevance or depth.\n",
        "\n",
        "This result is expected, given the model's limitations in generalizing meaningful financial language on limited data.\n",
        "\n",
        "For further improvement, we would need to consider addressing overfitting with early stopping, regularization, or dropout layers, as also expanding the dataset with more diverse and contextually rich financial data, or using pre-trained embeddings like GloVe to improve contextual understanding. We can also explore transformer based models such as BERT for further refinement.\n",
        "\n",
        "Overall, while this LSTM model demonstrates foundational text generation capabilities, there’s potential to enhance performance and contextual accuracy through advanced techniques and additional data."
      ],
      "metadata": {
        "id": "COGq4vQ80sJ3"
      }
    },
    {
      "cell_type": "code",
      "source": [],
      "metadata": {
        "id": "PrVkhgIh1qzJ"
      },
      "execution_count": null,
      "outputs": []
    }
  ]
}